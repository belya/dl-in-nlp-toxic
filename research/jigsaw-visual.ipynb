{
 "cells": [
  {
   "cell_type": "code",
   "execution_count": 1,
   "metadata": {},
   "outputs": [],
   "source": [
    "import pandas as pd"
   ]
  },
  {
   "cell_type": "code",
   "execution_count": 2,
   "metadata": {},
   "outputs": [],
   "source": [
    "%matplotlib inline\n",
    "import matplotlib.pyplot as plt"
   ]
  },
  {
   "cell_type": "code",
   "execution_count": 3,
   "metadata": {},
   "outputs": [],
   "source": [
    "train_df = pd.read_csv(\"train.csv\")"
   ]
  },
  {
   "cell_type": "code",
   "execution_count": 4,
   "metadata": {},
   "outputs": [
    {
     "data": {
      "text/plain": [
       "(1804874, 45)"
      ]
     },
     "execution_count": 4,
     "metadata": {},
     "output_type": "execute_result"
    }
   ],
   "source": [
    "train_df.shape"
   ]
  },
  {
   "cell_type": "code",
   "execution_count": 5,
   "metadata": {},
   "outputs": [
    {
     "data": {
      "text/plain": [
       "(array([1266229.,  160959.,  170695.,    5515.,   57142.,   72099.,\n",
       "          26784.,   14620.,   21605.,    9226.]),\n",
       " array([0. , 0.1, 0.2, 0.3, 0.4, 0.5, 0.6, 0.7, 0.8, 0.9, 1. ]),\n",
       " <a list of 10 Patch objects>)"
      ]
     },
     "execution_count": 5,
     "metadata": {},
     "output_type": "execute_result"
    },
    {
     "data": {
      "image/png": "[encoded data removed]",
      "text/plain": [
       "<matplotlib.figure.Figure at 0x7f3c925b5128>"
      ]
     },
     "metadata": {},
     "output_type": "display_data"
    }
   ],
   "source": [
    "plt.hist(train_df[\"target\"])"
   ]
  },
  {
   "cell_type": "code",
   "execution_count": 6,
   "metadata": {},
   "outputs": [
    {
     "data": {
      "text/plain": [
       "['id',\n",
       " 'target',\n",
       " 'comment_text',\n",
       " 'severe_toxicity',\n",
       " 'obscene',\n",
       " 'identity_attack',\n",
       " 'insult',\n",
       " 'threat',\n",
       " 'asian',\n",
       " 'atheist',\n",
       " 'bisexual',\n",
       " 'black',\n",
       " 'buddhist',\n",
       " 'christian',\n",
       " 'female',\n",
       " 'heterosexual',\n",
       " 'hindu',\n",
       " 'homosexual_gay_or_lesbian',\n",
       " 'intellectual_or_learning_disability',\n",
       " 'jewish',\n",
       " 'latino',\n",
       " 'male',\n",
       " 'muslim',\n",
       " 'other_disability',\n",
       " 'other_gender',\n",
       " 'other_race_or_ethnicity',\n",
       " 'other_religion',\n",
       " 'other_sexual_orientation',\n",
       " 'physical_disability',\n",
       " 'psychiatric_or_mental_illness',\n",
       " 'transgender',\n",
       " 'white',\n",
       " 'created_date',\n",
       " 'publication_id',\n",
       " 'parent_id',\n",
       " 'article_id',\n",
       " 'rating',\n",
       " 'funny',\n",
       " 'wow',\n",
       " 'sad',\n",
       " 'likes',\n",
       " 'disagree',\n",
       " 'sexual_explicit',\n",
       " 'identity_annotator_count',\n",
       " 'toxicity_annotator_count']"
      ]
     },
     "execution_count": 6,
     "metadata": {},
     "output_type": "execute_result"
    }
   ],
   "source": [
    "list(train_df.columns)"
   ]
  },
  {
   "cell_type": "code",
   "execution_count": 7,
   "metadata": {},
   "outputs": [],
   "source": [
    "main_fields = [\"id\", \"target\", \"comment_text\", \"created_date\", \"publication_id\", \"parent_id\", \"article_id\", \"rating\", \"likes\", \"identity_annotator_count\", \"toxicity_annotator_count\", \"funny\", \"wow\", \"sad\", \"disagree\"]"
   ]
  },
  {
   "cell_type": "code",
   "execution_count": 8,
   "metadata": {},
   "outputs": [],
   "source": [
    "fields_to_research = [\"severe_toxicity\", \"obscene\", \"identity_attack\", \"insult\", \"threat\", \"sexual_explicit\"]"
   ]
  },
  {
   "cell_type": "code",
   "execution_count": 9,
   "metadata": {},
   "outputs": [],
   "source": [
    "groups = [c for c in train_df.columns if c not in main_fields + fields_to_research]"
   ]
  },
  {
   "cell_type": "markdown",
   "metadata": {},
   "source": [
    "# How many toxic comments in each group"
   ]
  },
  {
   "cell_type": "code",
   "execution_count": 10,
   "metadata": {},
   "outputs": [
    {
     "data": {
      "text/plain": [
       "male                                   82123\n",
       "female                                 81054\n",
       "white                                  79189\n",
       "black                                  77584\n",
       "muslim                                 77570\n",
       "christian                              77257\n",
       "homosexual_gay_or_lesbian              76451\n",
       "psychiatric_or_mental_illness          75641\n",
       "other_race_or_ethnicity                75606\n",
       "other_religion                         75127\n",
       "jewish                                 74867\n",
       "asian                                  74658\n",
       "latino                                 74586\n",
       "transgender                            74524\n",
       "intellectual_or_learning_disability    74515\n",
       "other_sexual_orientation               74386\n",
       "heterosexual                           74303\n",
       "bisexual                               74166\n",
       "physical_disability                    74156\n",
       "other_disability                       74150\n",
       "other_gender                           74116\n",
       "atheist                                74023\n",
       "hindu                                  73975\n",
       "buddhist                               73940\n",
       "dtype: int64"
      ]
     },
     "execution_count": 10,
     "metadata": {},
     "output_type": "execute_result"
    }
   ],
   "source": [
    "toxic_amounts_df = train_df[train_df[\"target\"] > 0.5][groups].astype(bool).sum(axis=0).sort_values(ascending=False)\n",
    "toxic_amounts_df"
   ]
  },
  {
   "cell_type": "code",
   "execution_count": 11,
   "metadata": {},
   "outputs": [
    {
     "data": {
      "text/plain": [
       "male                                   1369827\n",
       "female                                 1364709\n",
       "christian                              1357360\n",
       "white                                  1323580\n",
       "muslim                                 1322452\n",
       "other_race_or_ethnicity                1317614\n",
       "other_religion                         1316155\n",
       "black                                  1315542\n",
       "homosexual_gay_or_lesbian              1312904\n",
       "asian                                  1311191\n",
       "jewish                                 1310735\n",
       "psychiatric_or_mental_illness          1309698\n",
       "latino                                 1307258\n",
       "transgender                            1306483\n",
       "other_sexual_orientation               1305142\n",
       "other_disability                       1304533\n",
       "bisexual                               1304245\n",
       "physical_disability                    1304224\n",
       "heterosexual                           1304180\n",
       "other_gender                           1303741\n",
       "atheist                                1303419\n",
       "intellectual_or_learning_disability    1303268\n",
       "hindu                                  1302806\n",
       "buddhist                               1302649\n",
       "dtype: int64"
      ]
     },
     "execution_count": 11,
     "metadata": {},
     "output_type": "execute_result"
    }
   ],
   "source": [
    "non_toxic_amounts_df = train_df[train_df[\"target\"] < 0.5][groups].astype(bool).sum(axis=0).sort_values(ascending=False)\n",
    "non_toxic_amounts_df"
   ]
  },
  {
   "cell_type": "code",
   "execution_count": 12,
   "metadata": {},
   "outputs": [
    {
     "data": {
      "text/plain": [
       "male                                   0.056560\n",
       "white                                  0.056452\n",
       "female                                 0.056063\n",
       "black                                  0.055691\n",
       "muslim                                 0.055406\n",
       "homosexual_gay_or_lesbian              0.055026\n",
       "psychiatric_or_mental_illness          0.054601\n",
       "other_race_or_ethnicity                0.054267\n",
       "intellectual_or_learning_disability    0.054083\n",
       "jewish                                 0.054032\n",
       "other_religion                         0.053998\n",
       "latino                                 0.053976\n",
       "transgender                            0.053964\n",
       "other_sexual_orientation               0.053921\n",
       "heterosexual                           0.053902\n",
       "asian                                  0.053872\n",
       "christian                              0.053852\n",
       "bisexual                               0.053805\n",
       "physical_disability                    0.053799\n",
       "other_gender                           0.053791\n",
       "other_disability                       0.053783\n",
       "atheist                                0.053739\n",
       "hindu                                  0.053730\n",
       "buddhist                               0.053712\n",
       "dtype: float64"
      ]
     },
     "execution_count": 12,
     "metadata": {},
     "output_type": "execute_result"
    }
   ],
   "source": [
    "(toxic_amounts_df / (toxic_amounts_df + non_toxic_amounts_df)).sort_values(ascending=False)"
   ]
  },
  {
   "cell_type": "markdown",
   "metadata": {},
   "source": [
    "All groups are very imbalanced"
   ]
  },
  {
   "cell_type": "markdown",
   "metadata": {},
   "source": [
    "# The average nonzero toxicity for each group"
   ]
  },
  {
   "cell_type": "code",
   "execution_count": 13,
   "metadata": {},
   "outputs": [],
   "source": [
    "import numpy as np"
   ]
  },
  {
   "cell_type": "code",
   "execution_count": 14,
   "metadata": {
    "scrolled": false
   },
   "outputs": [],
   "source": [
    "mean_toxicity = []\n",
    "for group in groups:\n",
    "    values = train_df[train_df[group] > 0][\"target\"]\n",
    "    mean_toxicity.append([group, values.mean(), values[values > 0.5].mean()])"
   ]
  },
  {
   "cell_type": "code",
   "execution_count": 15,
   "metadata": {},
   "outputs": [],
   "source": [
    "mean_toxicity_df = pd.DataFrame(mean_toxicity, columns=[\"group\", \"mean\", \"toxic_mean\"]).set_index(\"group\")"
   ]
  },
  {
   "cell_type": "code",
   "execution_count": 16,
   "metadata": {},
   "outputs": [
    {
     "data": {
      "text/html": [
       "<div>\n",
       "<style scoped>\n",
       "    .dataframe tbody tr th:only-of-type {\n",
       "        vertical-align: middle;\n",
       "    }\n",
       "\n",
       "    .dataframe tbody tr th {\n",
       "        vertical-align: top;\n",
       "    }\n",
       "\n",
       "    .dataframe thead th {\n",
       "        text-align: right;\n",
       "    }\n",
       "</style>\n",
       "<table border=\"1\" class=\"dataframe\">\n",
       "  <thead>\n",
       "    <tr style=\"text-align: right;\">\n",
       "      <th></th>\n",
       "      <th>mean</th>\n",
       "      <th>toxic_mean</th>\n",
       "    </tr>\n",
       "    <tr>\n",
       "      <th>group</th>\n",
       "      <th></th>\n",
       "      <th></th>\n",
       "    </tr>\n",
       "  </thead>\n",
       "  <tbody>\n",
       "    <tr>\n",
       "      <th>black</th>\n",
       "      <td>0.292384</td>\n",
       "      <td>0.685588</td>\n",
       "    </tr>\n",
       "    <tr>\n",
       "      <th>intellectual_or_learning_disability</th>\n",
       "      <td>0.286834</td>\n",
       "      <td>0.732434</td>\n",
       "    </tr>\n",
       "    <tr>\n",
       "      <th>white</th>\n",
       "      <td>0.284128</td>\n",
       "      <td>0.681911</td>\n",
       "    </tr>\n",
       "    <tr>\n",
       "      <th>homosexual_gay_or_lesbian</th>\n",
       "      <td>0.276738</td>\n",
       "      <td>0.686479</td>\n",
       "    </tr>\n",
       "    <tr>\n",
       "      <th>muslim</th>\n",
       "      <td>0.247435</td>\n",
       "      <td>0.693232</td>\n",
       "    </tr>\n",
       "    <tr>\n",
       "      <th>heterosexual</th>\n",
       "      <td>0.241139</td>\n",
       "      <td>0.684141</td>\n",
       "    </tr>\n",
       "    <tr>\n",
       "      <th>psychiatric_or_mental_illness</th>\n",
       "      <td>0.236047</td>\n",
       "      <td>0.703083</td>\n",
       "    </tr>\n",
       "    <tr>\n",
       "      <th>other_sexual_orientation</th>\n",
       "      <td>0.214015</td>\n",
       "      <td>0.686315</td>\n",
       "    </tr>\n",
       "    <tr>\n",
       "      <th>transgender</th>\n",
       "      <td>0.213658</td>\n",
       "      <td>0.685143</td>\n",
       "    </tr>\n",
       "    <tr>\n",
       "      <th>bisexual</th>\n",
       "      <td>0.198373</td>\n",
       "      <td>0.687804</td>\n",
       "    </tr>\n",
       "    <tr>\n",
       "      <th>jewish</th>\n",
       "      <td>0.195681</td>\n",
       "      <td>0.686929</td>\n",
       "    </tr>\n",
       "    <tr>\n",
       "      <th>latino</th>\n",
       "      <td>0.187902</td>\n",
       "      <td>0.685553</td>\n",
       "    </tr>\n",
       "    <tr>\n",
       "      <th>other_gender</th>\n",
       "      <td>0.185698</td>\n",
       "      <td>0.694190</td>\n",
       "    </tr>\n",
       "    <tr>\n",
       "      <th>other_race_or_ethnicity</th>\n",
       "      <td>0.177814</td>\n",
       "      <td>0.688476</td>\n",
       "    </tr>\n",
       "    <tr>\n",
       "      <th>male</th>\n",
       "      <td>0.176320</td>\n",
       "      <td>0.695328</td>\n",
       "    </tr>\n",
       "    <tr>\n",
       "      <th>female</th>\n",
       "      <td>0.173083</td>\n",
       "      <td>0.694067</td>\n",
       "    </tr>\n",
       "    <tr>\n",
       "      <th>atheist</th>\n",
       "      <td>0.168892</td>\n",
       "      <td>0.689505</td>\n",
       "    </tr>\n",
       "    <tr>\n",
       "      <th>physical_disability</th>\n",
       "      <td>0.168142</td>\n",
       "      <td>0.690980</td>\n",
       "    </tr>\n",
       "    <tr>\n",
       "      <th>hindu</th>\n",
       "      <td>0.165541</td>\n",
       "      <td>0.679952</td>\n",
       "    </tr>\n",
       "    <tr>\n",
       "      <th>other_disability</th>\n",
       "      <td>0.164725</td>\n",
       "      <td>0.705921</td>\n",
       "    </tr>\n",
       "    <tr>\n",
       "      <th>other_religion</th>\n",
       "      <td>0.161409</td>\n",
       "      <td>0.684735</td>\n",
       "    </tr>\n",
       "    <tr>\n",
       "      <th>buddhist</th>\n",
       "      <td>0.158209</td>\n",
       "      <td>0.689902</td>\n",
       "    </tr>\n",
       "    <tr>\n",
       "      <th>asian</th>\n",
       "      <td>0.148792</td>\n",
       "      <td>0.690979</td>\n",
       "    </tr>\n",
       "    <tr>\n",
       "      <th>christian</th>\n",
       "      <td>0.130419</td>\n",
       "      <td>0.682550</td>\n",
       "    </tr>\n",
       "  </tbody>\n",
       "</table>\n",
       "</div>"
      ],
      "text/plain": [
       "                                         mean  toxic_mean\n",
       "group                                                    \n",
       "black                                0.292384    0.685588\n",
       "intellectual_or_learning_disability  0.286834    0.732434\n",
       "white                                0.284128    0.681911\n",
       "homosexual_gay_or_lesbian            0.276738    0.686479\n",
       "muslim                               0.247435    0.693232\n",
       "heterosexual                         0.241139    0.684141\n",
       "psychiatric_or_mental_illness        0.236047    0.703083\n",
       "other_sexual_orientation             0.214015    0.686315\n",
       "transgender                          0.213658    0.685143\n",
       "bisexual                             0.198373    0.687804\n",
       "jewish                               0.195681    0.686929\n",
       "latino                               0.187902    0.685553\n",
       "other_gender                         0.185698    0.694190\n",
       "other_race_or_ethnicity              0.177814    0.688476\n",
       "male                                 0.176320    0.695328\n",
       "female                               0.173083    0.694067\n",
       "atheist                              0.168892    0.689505\n",
       "physical_disability                  0.168142    0.690980\n",
       "hindu                                0.165541    0.679952\n",
       "other_disability                     0.164725    0.705921\n",
       "other_religion                       0.161409    0.684735\n",
       "buddhist                             0.158209    0.689902\n",
       "asian                                0.148792    0.690979\n",
       "christian                            0.130419    0.682550"
      ]
     },
     "execution_count": 16,
     "metadata": {},
     "output_type": "execute_result"
    }
   ],
   "source": [
    "mean_toxicity_df.sort_values(\"mean\", ascending=False)"
   ]
  },
  {
   "cell_type": "code",
   "execution_count": 17,
   "metadata": {},
   "outputs": [],
   "source": [
    "import seaborn as sns"
   ]
  },
  {
   "cell_type": "markdown",
   "metadata": {},
   "source": [
    "# The average degree of confidence for each group"
   ]
  },
  {
   "cell_type": "code",
   "execution_count": 18,
   "metadata": {},
   "outputs": [
    {
     "data": {
      "text/plain": [
       "white                                  0.770412\n",
       "muslim                                 0.751878\n",
       "black                                  0.712237\n",
       "female                                 0.701901\n",
       "homosexual_gay_or_lesbian              0.677835\n",
       "jewish                                 0.663610\n",
       "christian                              0.629008\n",
       "atheist                                0.576320\n",
       "male                                   0.549174\n",
       "psychiatric_or_mental_illness          0.459000\n",
       "transgender                            0.445092\n",
       "asian                                  0.441621\n",
       "buddhist                               0.418327\n",
       "heterosexual                           0.379792\n",
       "hindu                                  0.379208\n",
       "latino                                 0.357852\n",
       "bisexual                               0.229243\n",
       "other_race_or_ethnicity                0.177099\n",
       "physical_disability                    0.170245\n",
       "intellectual_or_learning_disability    0.166474\n",
       "other_religion                         0.163708\n",
       "other_disability                       0.139465\n",
       "other_sexual_orientation               0.134235\n",
       "other_gender                           0.131497\n",
       "dtype: float64"
      ]
     },
     "execution_count": 18,
     "metadata": {},
     "output_type": "execute_result"
    }
   ],
   "source": [
    "train_df[train_df > 0][groups].mean(axis=0).sort_values(ascending=False)"
   ]
  },
  {
   "cell_type": "markdown",
   "metadata": {},
   "source": [
    "# Number of annotators"
   ]
  },
  {
   "cell_type": "code",
   "execution_count": 19,
   "metadata": {},
   "outputs": [],
   "source": [
    "from sklearn.preprocessing import quantile_transform, QuantileTransformer"
   ]
  },
  {
   "cell_type": "code",
   "execution_count": 20,
   "metadata": {},
   "outputs": [],
   "source": [
    "train_df[\"toxicity_annotator_count_normed\"] = train_df[\"toxicity_annotator_count\"].round(-1)"
   ]
  },
  {
   "cell_type": "code",
   "execution_count": 21,
   "metadata": {},
   "outputs": [
    {
     "data": {
      "text/plain": [
       "<matplotlib.axes._subplots.AxesSubplot at 0x7f3c88641f98>"
      ]
     },
     "execution_count": 21,
     "metadata": {},
     "output_type": "execute_result"
    },
    {
     "data": {
      "image/png": "[encoded data removed]",
      "text/plain": [
       "<matplotlib.figure.Figure at 0x7f3c88620748>"
      ]
     },
     "metadata": {},
     "output_type": "display_data"
    }
   ],
   "source": [
    "train_df.groupby(\"toxicity_annotator_count_normed\")[\"target\"].std().plot(kind='bar', figsize=(20, 5))"
   ]
  },
  {
   "cell_type": "markdown",
   "metadata": {},
   "source": [
    "The confidence in the toxicity is high for big amount of annotators"
   ]
  },
  {
   "cell_type": "code",
   "execution_count": 22,
   "metadata": {},
   "outputs": [],
   "source": [
    "train_df[\"identity_annotator_count_normed\"] = train_df[\"identity_annotator_count\"].round(-1)"
   ]
  },
  {
   "cell_type": "code",
   "execution_count": 23,
   "metadata": {},
   "outputs": [],
   "source": [
    "train_df[\"max_identity\"] = train_df[groups].max(axis=1)"
   ]
  },
  {
   "cell_type": "code",
   "execution_count": 24,
   "metadata": {},
   "outputs": [
    {
     "data": {
      "text/plain": [
       "<matplotlib.axes._subplots.AxesSubplot at 0x7f3c8807d940>"
      ]
     },
     "execution_count": 24,
     "metadata": {},
     "output_type": "execute_result"
    },
    {
     "data": {
      "image/png": "[encoded data removed]",
      "text/plain": [
       "<matplotlib.figure.Figure at 0x7f3c880b3780>"
      ]
     },
     "metadata": {},
     "output_type": "display_data"
    }
   ],
   "source": [
    "train_df.groupby(\"identity_annotator_count_normed\")[\"max_identity\"].mean().plot(kind='bar', figsize=(20, 5))"
   ]
  },
  {
   "cell_type": "code",
   "execution_count": 25,
   "metadata": {},
   "outputs": [
    {
     "data": {
      "text/plain": [
       "<matplotlib.axes._subplots.AxesSubplot at 0x7f3c87e7cfd0>"
      ]
     },
     "execution_count": 25,
     "metadata": {},
     "output_type": "execute_result"
    },
    {
     "data": {
      "image/png": "[encoded data removed]",
      "text/plain": [
       "<matplotlib.figure.Figure at 0x7f3c881537f0>"
      ]
     },
     "metadata": {},
     "output_type": "display_data"
    }
   ],
   "source": [
    "train_df[[\"max_identity\", \"identity_annotator_count_normed\"]].fillna(0).boxplot(by='identity_annotator_count_normed', figsize=(20, 5))"
   ]
  },
  {
   "cell_type": "markdown",
   "metadata": {},
   "source": [
    "The confidence in identity is not so high for the small amount of annotators"
   ]
  },
  {
   "cell_type": "markdown",
   "metadata": {},
   "source": [
    "# Toxic reaction"
   ]
  },
  {
   "cell_type": "code",
   "execution_count": 26,
   "metadata": {},
   "outputs": [],
   "source": [
    "not_toxic = train_df[\"target\"] < 0.4"
   ]
  },
  {
   "cell_type": "code",
   "execution_count": 27,
   "metadata": {},
   "outputs": [],
   "source": [
    "toxic = (train_df[\"target\"] >= 0.4) & (train_df[\"target\"] < 0.7)"
   ]
  },
  {
   "cell_type": "code",
   "execution_count": 28,
   "metadata": {},
   "outputs": [],
   "source": [
    "very_toxic = (train_df[\"target\"] >= 0.7)"
   ]
  },
  {
   "cell_type": "code",
   "execution_count": 29,
   "metadata": {},
   "outputs": [],
   "source": [
    "rating_size = train_df[\"rating\"].value_counts()"
   ]
  },
  {
   "cell_type": "code",
   "execution_count": 30,
   "metadata": {},
   "outputs": [
    {
     "data": {
      "text/plain": [
       "rating\n",
       "approved    0.091976\n",
       "rejected    0.257878\n",
       "Name: target, dtype: float64"
      ]
     },
     "execution_count": 30,
     "metadata": {},
     "output_type": "execute_result"
    }
   ],
   "source": [
    "train_df.groupby(\"rating\")[\"target\"].mean()"
   ]
  },
  {
   "cell_type": "markdown",
   "metadata": {},
   "source": [
    "# How many comments from different categories of toxicity were approved and rejected "
   ]
  },
  {
   "cell_type": "code",
   "execution_count": 31,
   "metadata": {},
   "outputs": [
    {
     "data": {
      "text/plain": [
       "rating\n",
       "approved    0.949404\n",
       "rejected    0.050596\n",
       "dtype: float64"
      ]
     },
     "execution_count": 31,
     "metadata": {},
     "output_type": "execute_result"
    }
   ],
   "source": [
    "train_df[not_toxic].groupby(\"rating\").size() / train_df[not_toxic].shape[0]"
   ]
  },
  {
   "cell_type": "code",
   "execution_count": 32,
   "metadata": {},
   "outputs": [
    {
     "data": {
      "text/plain": [
       "rating\n",
       "approved    0.839575\n",
       "rejected    0.160425\n",
       "dtype: float64"
      ]
     },
     "execution_count": 32,
     "metadata": {},
     "output_type": "execute_result"
    }
   ],
   "source": [
    "train_df[toxic].groupby(\"rating\").size() / train_df[toxic].shape[0]"
   ]
  },
  {
   "cell_type": "code",
   "execution_count": 33,
   "metadata": {},
   "outputs": [
    {
     "data": {
      "text/plain": [
       "rating\n",
       "approved    0.725926\n",
       "rejected    0.274074\n",
       "dtype: float64"
      ]
     },
     "execution_count": 33,
     "metadata": {},
     "output_type": "execute_result"
    }
   ],
   "source": [
    "train_df[very_toxic].groupby(\"rating\").size() / train_df[very_toxic].shape[0]"
   ]
  },
  {
   "cell_type": "markdown",
   "metadata": {},
   "source": [
    "# Reaction"
   ]
  },
  {
   "cell_type": "code",
   "execution_count": 34,
   "metadata": {},
   "outputs": [],
   "source": [
    "reaction = [\"likes\", \"sad\", \"wow\", \"funny\", \"disagree\"]"
   ]
  },
  {
   "cell_type": "code",
   "execution_count": 35,
   "metadata": {},
   "outputs": [
    {
     "data": {
      "text/plain": [
       "likes       2.425302\n",
       "sad         0.107101\n",
       "wow         0.043332\n",
       "funny       0.281087\n",
       "disagree    0.572950\n",
       "dtype: float64"
      ]
     },
     "execution_count": 35,
     "metadata": {},
     "output_type": "execute_result"
    }
   ],
   "source": [
    "train_df[not_toxic][reaction].mean(axis=0)"
   ]
  },
  {
   "cell_type": "code",
   "execution_count": 36,
   "metadata": {},
   "outputs": [
    {
     "data": {
      "text/plain": [
       "likes       2.719654\n",
       "sad         0.130369\n",
       "wow         0.053312\n",
       "funny       0.257111\n",
       "disagree    0.714157\n",
       "dtype: float64"
      ]
     },
     "execution_count": 36,
     "metadata": {},
     "output_type": "execute_result"
    }
   ],
   "source": [
    "train_df[toxic][reaction].mean(axis=0)"
   ]
  },
  {
   "cell_type": "code",
   "execution_count": 37,
   "metadata": {
    "scrolled": false
   },
   "outputs": [
    {
     "name": "stdout",
     "output_type": "stream",
     "text": [
      "likes\n"
     ]
    },
    {
     "data": {
      "image/png": "[encoded data removed]",
      "text/plain": [
       "<matplotlib.figure.Figure at 0x7f3c87777cf8>"
      ]
     },
     "metadata": {},
     "output_type": "display_data"
    },
    {
     "data": {
      "image/png": "[encoded data removed]",
      "text/plain": [
       "<matplotlib.figure.Figure at 0x7f3c87741cc0>"
      ]
     },
     "metadata": {},
     "output_type": "display_data"
    },
    {
     "data": {
      "image/png": "[encoded data removed]",
      "text/plain": [
       "<matplotlib.figure.Figure at 0x7f3c875c8a90>"
      ]
     },
     "metadata": {},
     "output_type": "display_data"
    },
    {
     "name": "stdout",
     "output_type": "stream",
     "text": [
      "sad\n"
     ]
    },
    {
     "data": {
      "image/png": "[encoded data removed]",
      "text/plain": [
       "<matplotlib.figure.Figure at 0x7f3c870d0c50>"
      ]
     },
     "metadata": {},
     "output_type": "display_data"
    },
    {
     "data": {
      "image/png": "[encoded data removed]",
      "text/plain": [
       "<matplotlib.figure.Figure at 0x7f3c86ff85f8>"
      ]
     },
     "metadata": {},
     "output_type": "display_data"
    },
    {
     "data": {
      "image/png": "[encoded data removed]",
      "text/plain": [
       "<matplotlib.figure.Figure at 0x7f3c86e6b780>"
      ]
     },
     "metadata": {},
     "output_type": "display_data"
    },
    {
     "name": "stdout",
     "output_type": "stream",
     "text": [
      "wow\n"
     ]
    },
    {
     "data": {
      "image/png": "[encoded data removed]",
      "text/plain": [
       "<matplotlib.figure.Figure at 0x7f3c86f0ada0>"
      ]
     },
     "metadata": {},
     "output_type": "display_data"
    },
    {
     "data": {
      "image/png": "[encoded data removed]",
      "text/plain": [
       "<matplotlib.figure.Figure at 0x7f3c871c3400>"
      ]
     },
     "metadata": {},
     "output_type": "display_data"
    },
    {
     "data": {
      "image/png": "[encoded data removed]",
      "text/plain": [
       "<matplotlib.figure.Figure at 0x7f3c8754d550>"
      ]
     },
     "metadata": {},
     "output_type": "display_data"
    },
    {
     "name": "stdout",
     "output_type": "stream",
     "text": [
      "funny\n"
     ]
    },
    {
     "data": {
      "image/png": "[encoded data removed]",
      "text/plain": [
       "<matplotlib.figure.Figure at 0x7f3c87894ba8>"
      ]
     },
     "metadata": {},
     "output_type": "display_data"
    },
    {
     "data": {
      "image/png": "[encoded data removed]",
      "text/plain": [
       "<matplotlib.figure.Figure at 0x7f3c87077f98>"
      ]
     },
     "metadata": {},
     "output_type": "display_data"
    },
    {
     "data": {
      "image/png": "[encoded data removed]",
      "text/plain": [
       "<matplotlib.figure.Figure at 0x7f3c875e9400>"
      ]
     },
     "metadata": {},
     "output_type": "display_data"
    },
    {
     "name": "stdout",
     "output_type": "stream",
     "text": [
      "disagree\n"
     ]
    },
    {
     "data": {
      "image/png": "[encoded data removed]",
      "text/plain": [
       "<matplotlib.figure.Figure at 0x7f3c873ee160>"
      ]
     },
     "metadata": {},
     "output_type": "display_data"
    },
    {
     "data": {
      "image/png": "[encoded data removed]",
      "text/plain": [
       "<matplotlib.figure.Figure at 0x7f3c86f0c6a0>"
      ]
     },
     "metadata": {},
     "output_type": "display_data"
    },
    {
     "data": {
      "image/png": "[encoded data removed]",
      "text/plain": [
       "<matplotlib.figure.Figure at 0x7f3c86d94630>"
      ]
     },
     "metadata": {},
     "output_type": "display_data"
    }
   ],
   "source": [
    "for field in reaction:\n",
    "    print(field)\n",
    "    field_normed = \"{}_normed\".format(field)\n",
    "    start_round = 0\n",
    "    while train_df[field].round(start_round).unique().shape[0] > 50:\n",
    "        start_round -= 1\n",
    "    train_df[field_normed] = train_df[field].round(start_round)\n",
    "    train_df[very_toxic][[field_normed, \"target\"]].boxplot(by=field_normed, figsize=(20, 5))\n",
    "    train_df[toxic][[field_normed, \"target\"]].boxplot(by=field_normed, figsize=(20, 5))\n",
    "    train_df[not_toxic][[field_normed, \"target\"]].boxplot(by=field_normed, figsize=(20, 5))\n",
    "    plt.show()"
   ]
  },
  {
   "cell_type": "markdown",
   "metadata": {},
   "source": [
    "# Most popular words"
   ]
  },
  {
   "cell_type": "code",
   "execution_count": 43,
   "metadata": {},
   "outputs": [],
   "source": [
    "from sklearn.feature_extraction.text import CountVectorizer"
   ]
  },
  {
   "cell_type": "code",
   "execution_count": 44,
   "metadata": {},
   "outputs": [],
   "source": [
    "vectorizer = CountVectorizer(max_features=100000, min_df=2)"
   ]
  },
  {
   "cell_type": "code",
   "execution_count": 66,
   "metadata": {},
   "outputs": [
    {
     "data": {
      "text/plain": [
       "CountVectorizer(analyzer='word', binary=False, decode_error='strict',\n",
       "        dtype=<class 'numpy.int64'>, encoding='utf-8', input='content',\n",
       "        lowercase=True, max_df=1.0, max_features=100000, min_df=2,\n",
       "        ngram_range=(1, 1), preprocessor=None, stop_words=None,\n",
       "        strip_accents=None, token_pattern='(?u)\\\\b\\\\w\\\\w+\\\\b',\n",
       "        tokenizer=None, vocabulary=None)"
      ]
     },
     "execution_count": 66,
     "metadata": {},
     "output_type": "execute_result"
    }
   ],
   "source": [
    "vectorizer.fit(train_df[\"comment_text\"].str.lower())"
   ]
  },
  {
   "cell_type": "code",
   "execution_count": 67,
   "metadata": {},
   "outputs": [
    {
     "data": {
      "text/plain": [
       "100000"
      ]
     },
     "execution_count": 67,
     "metadata": {},
     "output_type": "execute_result"
    }
   ],
   "source": [
    "len(vectorizer.vocabulary_)"
   ]
  },
  {
   "cell_type": "code",
   "execution_count": 68,
   "metadata": {},
   "outputs": [],
   "source": [
    "word_counts = vectorizer.transform(train_df[\"comment_text\"].str.lower())"
   ]
  },
  {
   "cell_type": "code",
   "execution_count": 69,
   "metadata": {},
   "outputs": [],
   "source": [
    "words = [word for word, _ in sorted(vectorizer.vocabulary_.items(), key=lambda x: x[1])]"
   ]
  },
  {
   "cell_type": "code",
   "execution_count": 70,
   "metadata": {},
   "outputs": [],
   "source": [
    "group = groups[0]"
   ]
  },
  {
   "cell_type": "markdown",
   "metadata": {},
   "source": [
    "### Toxic comments for each group"
   ]
  },
  {
   "cell_type": "code",
   "execution_count": 116,
   "metadata": {},
   "outputs": [
    {
     "data": {
      "text/plain": [
       "Int64Index([  51397,   57332,   65325,   93978,  105517,  110381,  117888,\n",
       "             120038,  120690,  132701,\n",
       "            ...\n",
       "            1704302, 1709280, 1714517, 1720769, 1733811, 1757536, 1760220,\n",
       "            1760816, 1768907, 1789795],\n",
       "           dtype='int64', length=179)"
      ]
     },
     "execution_count": 116,
     "metadata": {},
     "output_type": "execute_result"
    }
   ],
   "source": [
    "very_toxic"
   ]
  },
  {
   "cell_type": "code",
   "execution_count": 121,
   "metadata": {},
   "outputs": [],
   "source": [
    "all_toxic_words = []"
   ]
  },
  {
   "cell_type": "code",
   "execution_count": 123,
   "metadata": {
    "scrolled": true
   },
   "outputs": [
    {
     "name": "stdout",
     "output_type": "stream",
     "text": [
      "asian\n",
      "Index(['black', 'asians', 'racist', 'blacks', 'muslims', 'little', 'ever',\n",
      "       'obama', 'name', 'hate', 'whites', 'reality', 'rest', 'anti', 'folks',\n",
      "       'corrupt', 'bunch', 'lives', 'indians', 'facts', 'africa', 'needs',\n",
      "       'looking', 'truth', 'policy', 'everything', 'violence', 'killed',\n",
      "       'corruption', 'aren', 'ethnic', 'decades', 'everybody', 'designed',\n",
      "       'gets', 'sorry', 'play', 'guys', 'knows', 'global', 'write', 'blame',\n",
      "       'calling', 'interests', 'eyes', 'yourself', 'cars', 'losers', 'certain',\n",
      "       'destroying'],\n",
      "      dtype='object', name='word')\n",
      "\n",
      "atheist\n",
      "Index(['christians', 'fear', 'facebook', 'hate', 'jews', 'really', 'friends',\n",
      "       'country', 'islam', 'kelley', 'holy', 'before', 'saying', 'true', 'yes',\n",
      "       'armies', 'anti', 'new', 'll', 'media', 'ever', 'shit', 'russians',\n",
      "       'perhaps', 'lived', 'site', 'trash', 'nytimes', 'please', 'use',\n",
      "       'bangladesh', 'islamists', 'listed', 'become', 'unbelievers', 'suras',\n",
      "       'show', 'ignorance', 'around', 'garbage', 'past', 'knowledge',\n",
      "       'bullshit', 'policy', 'victoria', 'foreign', 'death', 'buyers',\n",
      "       'radical', 'known'],\n",
      "      dtype='object', name='word')\n",
      "\n",
      "bisexual\n",
      "Index(['gay', 'she', 'too', 'white', 'black', 'gays', 'ha', 'muslims',\n",
      "       'homosexual', 'bisexual', 'muslim', 'hillary', 'probably', 'blm',\n",
      "       'pride', 'couples', 'thinks', 'unless', 'lesbian', 'forced',\n",
      "       'homophobic', 'corrupt', 'trudeau', 'radical', 'racists', 'neighbor',\n",
      "       'accept', 'refuses', 'design', 'home', 'fear', 'older', 'status', 'try',\n",
      "       'dead', 'questions', 'bible', 'trash', 'himself', 'cnn', 'realize',\n",
      "       'telling', 'voted', 'wynne', 'charles', 'trial', 'insane', 'stated',\n",
      "       'openly', 'blacks'],\n",
      "      dtype='object', name='word')\n",
      "\n",
      "black\n",
      "Index(['muslim', 'chicago', 'calling', 'guys', 'shoot', 'males', 'nazi',\n",
      "       'commit', 'bunch', 'criminals', 'low', 'ok', 'pot', 'funny', 'scum',\n",
      "       'rape', 'attack', 'unarmed', 'fired', 'east', 'niger', 'wake',\n",
      "       'kneeling', 'mexican', 'check', 'thugs', 'sobs', 'homosexual', 'super',\n",
      "       'attacked', 'dude', 'killings', 'boys', 'ppl', 'lynching', 'sir', 'wow',\n",
      "       'outrage', 'hating', 'murders', 'counting', 'looked', 'wealth',\n",
      "       'supports', 'van', 'iq', '16', 'grown', 'frankly', 'shooter'],\n",
      "      dtype='object', name='word')\n",
      "\n",
      "buddhist\n",
      "Index(['shamans', 'atheists', 'such', 'sda', 'something', 'ethnic', 'loser',\n",
      "       'beliefs', 'die', 'jewish', 'violence', 'work', 'trying', 'burma',\n",
      "       'wrong', 'chin', 'danno', 'actually', 'rohingya', 'agree', 'yourself',\n",
      "       'group', 'history', 'deserve', 'death', 'comment', 'bitter', 'preach',\n",
      "       'state', 'fear', 'stop', 'ethic', 'view', 'got', 'century', 'senator',\n",
      "       'allow', 'tibetan', 'keepers', 'peace', 'singles', 'special', 'terror',\n",
      "       'acts', 'perpetrated', 'vast', 'suggest', 'biased', 'based', 'line'],\n",
      "      dtype='object', name='word')\n",
      "\n",
      "christian\n",
      "Index(['christians', 'white', 'gay', 'muslims', 'muslim', 'islam', 'kill',\n",
      "       'jews', 'folks', 'please', 'evil', 'islamic', 'homosexuals', 'killing',\n",
      "       'killed', 'hell', 'gays', 'murdering', 'rape', 'hypocrites',\n",
      "       'terrorists', 'acts', 'israel', 'terrorist', 'radical', 'remember',\n",
      "       'terrorism', 'crazy', 'baker', 'die', 'ha', 'homosexual', 'protest',\n",
      "       'straight', 'hatred', 'ignorance', 'disgusting', 'serve', 'atheist',\n",
      "       'plenty', 'ku', 'fire', 'cover', 'hypocrisy', 'devil', 'democracy',\n",
      "       'elected', 'pedophile', 'blind', 'committed'],\n",
      "      dtype='object', name='word')\n",
      "\n",
      "female\n",
      "Index(['black', 'bitch', 'pussy', 'islam', 'nasty', 'rich', 'fear', 'politics',\n",
      "       'hypocrites', 'crazy', 'grab', 'killing', 'crimes', 'jerk', 'known',\n",
      "       'jews', 'lying', 'murphy', 'grabbing', 'terrorism', 'gays', 'blacks',\n",
      "       'hawaii', 'christians', 'eye', 'expect', 'thinks', 'lisa', 'learn',\n",
      "       'west', 'mom', 'raped', 'bloom', 'sexist', 'weinstein', 'deserves',\n",
      "       'brown', 'hollywood', 'staff', 'produced', 'everywhere', 'dare',\n",
      "       'homosexuals', 'turns', 'vagina', 'dirty', 'whores', 'feels', 'dnc',\n",
      "       'acceptable'],\n",
      "      dtype='object', name='word')\n",
      "\n",
      "heterosexual\n",
      "Index(['priests', 'gays', 'young', 'down', 'rape', 'care', 'boys', 'enough',\n",
      "       'hillary', 'hope', 'fucking', 'girls', 'shit', 'excellent', 'sorry',\n",
      "       'hate', 'damn', 'enemy', 'acts', 'funny', 'muslim', 'domestic', 'obama',\n",
      "       'lesbians', 'ignorance', '100', 'complete', 'mother', 'attack',\n",
      "       'active', 'fuck', 'statistically', 'sort', 'normal', 'past',\n",
      "       'homophobic', '20', 'wing', 'military', 'canadian', 'exterminated',\n",
      "       'radical', 'design', 'sick', 'ass', 'yourself', 'although', 'muslims',\n",
      "       'voters', 'anyway'],\n",
      "      dtype='object', name='word')\n",
      "\n",
      "hindu\n",
      "Index(['white', 'when', 'atheists', 'man', 'nation', 'black', 'laws', 'hate',\n",
      "       'gay', 'religions', 'everyone', 'trudeau', 'americans', 'doing',\n",
      "       'beliefs', 'ok', 'reason', 'violence', 'fact', 'use', 'jew',\n",
      "       'ignorance', 'view', 'racist', 'media', 'chinese', 'got', 'wouldn',\n",
      "       'drug', 'put', 'stop', 'identify', 'vote', 'sane', 'speech', 'post',\n",
      "       'eff', 'phobic', 'business', 'religio', 'motion', 'shame', 'islamic',\n",
      "       'blame', 'supremacist', 'solstice', 'floor', 'terrorist', 'department',\n",
      "       'united'],\n",
      "      dtype='object', name='word')\n",
      "\n",
      "homosexual_gay_or_lesbian\n",
      "Index(['white', 'muslim', 'racist', 'muslims', 'lesbian', 'boys', 'ha', 'ok',\n",
      "       'rape', 'blacks', 'check', 'killing', 'scare', 'attack', 'sodomy',\n",
      "       'crime', 'simple', 'closet', 'admit', 'queer', 'soon', 'locker',\n",
      "       'willing', 'lee', 'males', 'kkk', 'faggot', 'leftist', 'oral',\n",
      "       'reminded', 'raping', 'dogs', 'deplorable', 'province', 'hispanics',\n",
      "       'rd', 'icky', '80', 'immediately', 'secret', '14', 'accusation',\n",
      "       'related', 'scared', 'revisionist', 'prophet', 'rings', 'neighbor',\n",
      "       'lisa', 'cancer'],\n",
      "      dtype='object', name='word')\n",
      "\n",
      "intellectual_or_learning_disability\n",
      "Index(['idiot', 'idiots', 'guy', 'donald', 'moron', 'racist', 'smart', 'start',\n",
      "       'idiotic', 'group', 'retard', 'values', 'street', 'blah', 'poison',\n",
      "       'standing', 'insane', 'car', 'wife', 'rich', 'meaning', 'gas',\n",
      "       'retarded', 'morals', 'leader', 'count', 'looks', 'usual', 'land',\n",
      "       'road', 'rallies', 'picture', 'months', 'challenged', 'total',\n",
      "       'russians', 'bs', 'jr', 'sending', 'lunatic', 'whites', 'hopefully',\n",
      "       'donate', 'foolish', 'vs', 'kennedy', 'fucking', 'flag', 'cops',\n",
      "       'gone'],\n",
      "      dtype='object', name='word')\n",
      "\n",
      "jewish\n",
      "Index(['muslims', 'white', 'black', 'kill', 'racist', 'hate', 'blacks',\n",
      "       'killing', 'bannon', 'attacks', 'terrorist', 'self', 'hatred', 'hating',\n",
      "       'put', 'fear', 'opinions', 'supremacist', 'useful', 'terrorists',\n",
      "       'argument', 'islamophobia', 'motion', 'destroy', 'supporters',\n",
      "       'claiming', 'atheists', 'oh', 'threats', 'infidels', 'suggest',\n",
      "       'hypocrisy', 'hypocrite', 'low', 'violent', 'pig', 'rhetoric', 'sacred',\n",
      "       '2000', 'calling', 'forms', 'apparently', 'daughter', 'fbi', 'mental',\n",
      "       'resolution', 'attacked', 'basic', 'capital', 'employer'],\n",
      "      dtype='object', name='word')\n",
      "\n",
      "latino\n",
      "Index(['white', 'black', 'racist', 'america', 'matter', 'blacks', 'men',\n",
      "       'lisa', 'bloom', 'says', 'muslims', 'whites', 'racism', 'crimes',\n",
      "       'hate', 'obama', 'left', 'muslim', 'guy', 'person', 'rapists', 'media',\n",
      "       'sex', 'republicans', 'top', 'check', 'low', 'killing', 'nation',\n",
      "       'society', 'almost', 'liberal', 'color', 'violence', 'power', 'known',\n",
      "       'social', 'ban', 'aren', 'foreign', 'criminals', 'story', 'victims',\n",
      "       'public', 'jews', 'islam', 'list', 'itself', 'forms', 'ha'],\n",
      "      dtype='object', name='word')\n",
      "\n",
      "male\n",
      "Index(['white', 'black', 'gay', 'racist', 'blacks', 'everyone', 'killing',\n",
      "       'republican', 'leo', 'mentally', 'penis', 'adults', 'sexually', 'color',\n",
      "       'blame', 'wait', 'lied', 'grab', 'whites', 'learn', 'nasty', 'knew',\n",
      "       'angry', 'ill', 'con', 'ready', 'pain', 'homosexual', 'homosexuality',\n",
      "       'gonna', 'normal', 'pussy', 'dick', 'cops', 'jerks', 'racists',\n",
      "       'unarmed', 'fellow', 'fat', 'senator', 'dad', 'feminist', 'concussions',\n",
      "       'lisa', 'hateful', 'zero', 'minority', 'buffoon', 'bloom', 'flag'],\n",
      "      dtype='object', name='word')\n",
      "\n"
     ]
    },
    {
     "name": "stdout",
     "output_type": "stream",
     "text": [
      "muslim\n",
      "Index(['kill', 'gay', 'black', 'killing', 'gays', 'innocent', 'needs', 'evil',\n",
      "       'murder', 'civilians', 'infidels', 'supremacist', 'cult', 'hundreds',\n",
      "       'jihadists', 'losers', 'sore', 'darn', 'atheists', 'whites', 'alive',\n",
      "       'convert', 'dogs', 'mueller', 'holy', 'murdering', 'supposed', 'angry',\n",
      "       'tolerate', 'destroy', 'target', 'seriously', 'orlando', 'opposing',\n",
      "       'traitor', 'hypocrisy', 'hating', 'intolerant', 'join', 'blaming',\n",
      "       'unbelievers', 'sects', 'dark', 'homosexuals', 'washington', 'brown',\n",
      "       'killings', 'mutilation', 'targeted', 'wake'],\n",
      "      dtype='object', name='word')\n",
      "\n",
      "other_disability\n",
      "Index(['white', 'disabled', 'black', 'cancer', 'folks', 'sick', 'world',\n",
      "       'ignorant', 'pussys', 'hate', 'violence', 'muslim', 'truth', 'islam',\n",
      "       'stop', 'lie', 'gay', 'deplorable', 'western', 'half', 'rump', 'matter',\n",
      "       'political', 'behavior', 'alcohol', 'trudeau', 'cases', 'sex',\n",
      "       'ignorance', 'social', 'views', 'accused', 'view', 'liberal', 'please',\n",
      "       'benefit', 'fashion', 'described', 'says', 'ok', 'photo', 'daughter',\n",
      "       'dad', 'supporters', 'racism', 'bunch', 'brought', 'throw', 'russians',\n",
      "       'goes'],\n",
      "      dtype='object', name='word')\n",
      "\n",
      "other_gender\n",
      "Index(['white', 'liberals', 'country', 'check', 'family', 'based', 'off',\n",
      "       'muslim', 'kid', 'post', 'stupidity', 'ridiculous', 'papua', 'racist',\n",
      "       'west', 'actually', 'job', 'folks', 'military', 'yet', 'guy', 'china',\n",
      "       'comment', 'western', 'big', 'give', 'banner', 'doing', 'winner',\n",
      "       'identification', 'buy', 'illegal', 'working', 'baker', 'please',\n",
      "       'flag', 'protecting', 'security', 'scared', 'countries', 'shitless',\n",
      "       'oh', 'evil', 'ensure', 'kill', 'committed', 'happy', 'trash', 'book',\n",
      "       'nor'],\n",
      "      dtype='object', name='word')\n",
      "\n",
      "other_race_or_ethnicity\n",
      "Index(['man', 'blacks', 'hate', 'bunch', 'brown', 'event', 'education', 'gays',\n",
      "       'fools', 'forget', 'check', 'coming', 'thanks', 'disgusting', 'gay',\n",
      "       'nazis', 'disaster', 'deserve', 'earth', 'males', 'guns', 'equality',\n",
      "       'scare', 'fight', 'showing', 'supremacists', 'names', 'nuclear',\n",
      "       'supremacist', 'healthcare', 'tweet', 'king', 'putin', 'arrogant',\n",
      "       'netanyahu', 'thank', 'racists', 'alcohol', 'hatred', 'step', 'stuff',\n",
      "       'females', 'type', 'bigotry', 'rapists', 'seriously', 'double',\n",
      "       'claims', 'asians', 'hack'],\n",
      "      dtype='object', name='word')\n",
      "\n",
      "other_religion\n",
      "Index(['islam', 'white', 'muslim', 'gay', 'black', 'hate', 'terrorists',\n",
      "       'jews', 'kill', 'racist', 'year', 'canadian', 'islamist', 'canadians',\n",
      "       'liberals', 'media', 'fear', 'everything', 'radical', 'ku', 'race',\n",
      "       'democracy', 'wow', 'hypocrite', 'corrupt', 'chinese', 'atheist',\n",
      "       'blacks', 'facts', 'bunch', 'feminists', 'dead', 'sir', 'democrats',\n",
      "       'policy', 'peace', 'hatred', 'uk', 'mormon', 'started', 'syria',\n",
      "       'knows', 'mr', 'french', 'elected', 'ha', 'pussys', 'hypocrisy',\n",
      "       'enemies', 'infidels'],\n",
      "      dtype='object', name='word')\n",
      "\n",
      "other_sexual_orientation\n",
      "Index(['white', 'black', 'country', 'gays', 'stop', 'group', 'folks', 'nation',\n",
      "       'lesbian', 'tell', 'jewish', 'death', 'oh', 'yourself', 'try', 'truth',\n",
      "       'friend', 'natural', 'went', 'donald', 'east', 'guess', 'kid',\n",
      "       'foreign', 'lisa', 'bloom', 'lesbians', 'kill', 'radical', 'whites',\n",
      "       'threats', 'fun', 'disabled', 'dead', 'run', 'memo', 'taking',\n",
      "       'practice', 'calling', 'usa', 'gave', 'bullshit', 'building', 'suspect',\n",
      "       'mouth', 'accused', 'criminals', 'lies', 'vietnam', 'meant'],\n",
      "      dtype='object', name='word')\n",
      "\n",
      "physical_disability\n",
      "Index(['any', 'white', 'men', 'state', 'black', 'death', 'part', 'tax', 'let',\n",
      "       'yer', 'nation', 'sex', 'deplorable', 'die', 'stop', 'great', 'big',\n",
      "       'except', 'sick', 'arse', 'pregnancies', 'chief', 'muslim', 'pussy',\n",
      "       'kind', 'fake', 'hire', 'fight', 'weak', 'examples', 'southern',\n",
      "       'humanity', 'devoid', 'media', 'fat', 'works', 'innocent', 'calling',\n",
      "       'typical', 'interests', 'stalking', 'rich', 'politicians', 'portland',\n",
      "       'instance', 'meaning', 'alcohol', 'feminists', 'win', 'paid'],\n",
      "      dtype='object', name='word')\n",
      "\n",
      "psychiatric_or_mental_illness\n",
      "Index(['sick', 'himself', 'crazy', 'psychotic', 'insane', 'liberalism',\n",
      "       'narcissist', 'republicans', 'deranged', 'telling', 'gop', 'democrats',\n",
      "       'killing', 'narcissism', 'pussys', 'calling', 'buffoon', 'victims',\n",
      "       'everybody', 'narcissistic', 'psycho', 'happy', 'dr', 'retarded',\n",
      "       'psychopath', 'pathological', 'malignant', 'weak', 'nut', 'lunatics',\n",
      "       'supremacist', 'vile', 'hunting', 'worst', 'challenged', 'lunatic',\n",
      "       'animals', 'lazy', 'minded', 'retard', 'standing', 'possibly', 'pot',\n",
      "       'whites', 'heard', 'votes', 'whining', 'fascist', 'basically',\n",
      "       'predator'],\n",
      "      dtype='object', name='word')\n",
      "\n",
      "transgender\n",
      "Index(['black', 'gays', 'matter', 'murphy', 'lives', 'doing', 'around',\n",
      "       'muslim', 'ok', 'march', 'girls', 'liberals', 'bet', 'stop', 'told',\n",
      "       'lesbian', 'muslims', 'trudeau', 'hillary', 'dead', 'whites',\n",
      "       'trannies', 'side', 'blacks', 'penis', 'thought', 'sorry', 'racism',\n",
      "       'himself', 'race', 'staff', 'edwards', 'rep', 'shannon', 'tranny',\n",
      "       'homophobic', 'wonder', 'psycho', 'act', 'upon', 'willing', 'movement',\n",
      "       'homosexual', 'half', 'age', 'written', 'home', 'faith', 'friend',\n",
      "       'obsessed'],\n",
      "      dtype='object', name='word')\n",
      "\n",
      "white\n",
      "Index(['racist', 'trash', 'racists', 'nazis', 'fascist', 'crimes', 'killing',\n",
      "       'lisa', 'yeah', 'bloom', 'sick', 'asians', 'brown', 'thinks',\n",
      "       'criminals', 'serial', 'boys', 'worthless', 'terrorist', 'hypocrisy',\n",
      "       'traitor', 'devoid', 'rape', 'bigoted', 'putting', 'pure', 'bigots',\n",
      "       'crow', 'hateful', 'stain', 'sexist', 'killers', 'studies', 'hispanics',\n",
      "       'gays', 'latin', 'mentality', 'virginia', 'granny', '85', 'charge',\n",
      "       'niger', 'ideology', 'everybody', 'shut', 'gillespie', 'marching',\n",
      "       'skinned', 'bully', 'lazy'],\n",
      "      dtype='object', name='word')\n",
      "\n"
     ]
    }
   ],
   "source": [
    "for group in groups:\n",
    "    very_toxic = (train_df[group] > 0) & (train_df[\"target\"] >= 0.8)\n",
    "    not_toxic = (train_df[group] > 0) & (train_df[\"target\"] < 0.4)\n",
    "    all_toxic = (train_df[\"target\"] >= 0.8)\n",
    "    \n",
    "    word_counts_toxic = word_counts[train_df[very_toxic].sample(1000, replace=True).index, :]\n",
    "    word_counts_not_toxic = word_counts[train_df[not_toxic].sample(1000, replace=True).index, :]\n",
    "    word_counts_all_toxic = word_counts[train_df[all_toxic].sample(1000, replace=True).index, :]\n",
    "    \n",
    "    word_counts_toxic_sum = word_counts_toxic.sum(axis=0)\n",
    "    word_counts_not_toxic_sum = word_counts_not_toxic.sum(axis=0)\n",
    "    word_counts_all_toxic_sum = word_counts_all_toxic.sum(axis=0)\n",
    "    \n",
    "    toxic_frequencies = {words[i]: word_counts_toxic_sum[0, i] for i in range(len(words))}\n",
    "    not_toxic_frequencies = {words[i]: word_counts_not_toxic_sum[0, i] for i in range(len(words))}\n",
    "    all_toxic_frequencies = {words[i]: word_counts_all_toxic_sum[0, i] for i in range(len(words))}\n",
    "    \n",
    "    toxic_frequencies_df = pd.DataFrame(list(toxic_frequencies.items()), columns=[\"word\", \"toxic_count\"]).set_index(\"word\")\n",
    "    not_toxic_frequencies_df = pd.DataFrame(list(not_toxic_frequencies.items()), columns=[\"word\", \"not_toxic_count\"]).set_index(\"word\")\n",
    "    all_toxic_frequencies_df = pd.DataFrame(list(all_toxic_frequencies.items()), columns=[\"word\", \"all_toxic_count\"]).set_index(\"word\")\n",
    "    \n",
    "    frequencies_df = toxic_frequencies_df.merge(not_toxic_frequencies_df, left_index=True, right_index=True)\n",
    "    frequencies_df = frequencies_df.merge(all_toxic_frequencies_df, left_index=True, right_index=True)\n",
    "    \n",
    "    toxic_words = frequencies_df[\n",
    "        (frequencies_df[\"toxic_count\"] + frequencies_df[\"not_toxic_count\"] > 10) & \n",
    "        (frequencies_df[\"toxic_count\"] / frequencies_df[\"not_toxic_count\"] > 2)  & \n",
    "        (frequencies_df[\"toxic_count\"] / frequencies_df[\"all_toxic_count\"] > 2)\n",
    "    ].sort_values(\"toxic_count\", ascending=False).index[0:20]\n",
    "    \n",
    "    print(group)\n",
    "    print(toxic_words)\n",
    "    print()\n",
    "    \n",
    "    all_toxic_words.append(toxic_words)"
   ]
  },
  {
   "cell_type": "code",
   "execution_count": 124,
   "metadata": {},
   "outputs": [],
   "source": [
    "all_toxic_words = [word for words in all_toxic_words for word in words]"
   ]
  },
  {
   "cell_type": "code",
   "execution_count": 127,
   "metadata": {},
   "outputs": [],
   "source": [
    "all_toxic_words = list(set(all_toxic_words))"
   ]
  },
  {
   "cell_type": "markdown",
   "metadata": {},
   "source": [
    "# Simple classifier to predict toxicity. Classes with problems"
   ]
  },
  {
   "cell_type": "markdown",
   "metadata": {},
   "source": [
    "Features:\n",
    "- Reactions (ratings, sad, wow, funny, disagree, likes)\n",
    "- Toxic words\n",
    "\n",
    "Classify only comments with any subgroup. "
   ]
  },
  {
   "cell_type": "code",
   "execution_count": 198,
   "metadata": {},
   "outputs": [
    {
     "ename": "KeyboardInterrupt",
     "evalue": "",
     "output_type": "error",
     "traceback": [
      "\u001b[0;31m---------------------------------------------------------------------------\u001b[0m",
      "\u001b[0;31mKeyboardInterrupt\u001b[0m                         Traceback (most recent call last)",
      "\u001b[0;32m<ipython-input-198-a7ab8cfbc06f>\u001b[0m in \u001b[0;36m<module>\u001b[0;34m()\u001b[0m\n\u001b[0;32m----> 1\u001b[0;31m \u001b[0mclassified_df\u001b[0m \u001b[0;34m=\u001b[0m \u001b[0mtrain_df\u001b[0m\u001b[0;34m[\u001b[0m\u001b[0;34m[\u001b[0m\u001b[0;34m\"comment_text\"\u001b[0m\u001b[0;34m,\u001b[0m \u001b[0;34m\"likes\"\u001b[0m\u001b[0;34m,\u001b[0m \u001b[0;34m\"rating\"\u001b[0m\u001b[0;34m,\u001b[0m \u001b[0;34m\"sad\"\u001b[0m\u001b[0;34m,\u001b[0m \u001b[0;34m\"wow\"\u001b[0m\u001b[0;34m,\u001b[0m \u001b[0;34m\"funny\"\u001b[0m\u001b[0;34m,\u001b[0m \u001b[0;34m\"disagree\"\u001b[0m\u001b[0;34m,\u001b[0m \u001b[0;34m\"target\"\u001b[0m\u001b[0;34m]\u001b[0m\u001b[0;34m]\u001b[0m\u001b[0;34m[\u001b[0m\u001b[0;34m(\u001b[0m\u001b[0mtrain_df\u001b[0m\u001b[0;34m[\u001b[0m\u001b[0mgroups\u001b[0m\u001b[0;34m]\u001b[0m\u001b[0;34m.\u001b[0m\u001b[0msum\u001b[0m\u001b[0;34m(\u001b[0m\u001b[0maxis\u001b[0m\u001b[0;34m=\u001b[0m\u001b[0;36m1\u001b[0m\u001b[0;34m)\u001b[0m \u001b[0;34m>\u001b[0m \u001b[0;36m0\u001b[0m\u001b[0;34m)\u001b[0m \u001b[0;34m&\u001b[0m \u001b[0;34m(\u001b[0m\u001b[0;34m(\u001b[0m\u001b[0mtrain_df\u001b[0m\u001b[0;34m[\u001b[0m\u001b[0;34m\"target\"\u001b[0m\u001b[0;34m]\u001b[0m \u001b[0;34m<\u001b[0m \u001b[0;36m0.4\u001b[0m\u001b[0;34m)\u001b[0m \u001b[0;34m|\u001b[0m \u001b[0;34m(\u001b[0m\u001b[0mtrain_df\u001b[0m\u001b[0;34m[\u001b[0m\u001b[0;34m\"target\"\u001b[0m\u001b[0;34m]\u001b[0m \u001b[0;34m>=\u001b[0m \u001b[0;36m0.8\u001b[0m\u001b[0;34m)\u001b[0m\u001b[0;34m)\u001b[0m\u001b[0;34m]\u001b[0m\u001b[0;34m.\u001b[0m\u001b[0mcopy\u001b[0m\u001b[0;34m(\u001b[0m\u001b[0;34m)\u001b[0m\u001b[0;34m\u001b[0m\u001b[0m\n\u001b[0m",
      "\u001b[0;32m/usr/local/lib/python3.5/dist-packages/pandas/core/frame.py\u001b[0m in \u001b[0;36m__getitem__\u001b[0;34m(self, key)\u001b[0m\n\u001b[1;32m   2680\u001b[0m         \u001b[0;32mif\u001b[0m \u001b[0misinstance\u001b[0m\u001b[0;34m(\u001b[0m\u001b[0mkey\u001b[0m\u001b[0;34m,\u001b[0m \u001b[0;34m(\u001b[0m\u001b[0mSeries\u001b[0m\u001b[0;34m,\u001b[0m \u001b[0mnp\u001b[0m\u001b[0;34m.\u001b[0m\u001b[0mndarray\u001b[0m\u001b[0;34m,\u001b[0m \u001b[0mIndex\u001b[0m\u001b[0;34m,\u001b[0m \u001b[0mlist\u001b[0m\u001b[0;34m)\u001b[0m\u001b[0;34m)\u001b[0m\u001b[0;34m:\u001b[0m\u001b[0;34m\u001b[0m\u001b[0m\n\u001b[1;32m   2681\u001b[0m             \u001b[0;31m# either boolean or fancy integer index\u001b[0m\u001b[0;34m\u001b[0m\u001b[0;34m\u001b[0m\u001b[0m\n\u001b[0;32m-> 2682\u001b[0;31m             \u001b[0;32mreturn\u001b[0m \u001b[0mself\u001b[0m\u001b[0;34m.\u001b[0m\u001b[0m_getitem_array\u001b[0m\u001b[0;34m(\u001b[0m\u001b[0mkey\u001b[0m\u001b[0;34m)\u001b[0m\u001b[0;34m\u001b[0m\u001b[0m\n\u001b[0m\u001b[1;32m   2683\u001b[0m         \u001b[0;32melif\u001b[0m \u001b[0misinstance\u001b[0m\u001b[0;34m(\u001b[0m\u001b[0mkey\u001b[0m\u001b[0;34m,\u001b[0m \u001b[0mDataFrame\u001b[0m\u001b[0;34m)\u001b[0m\u001b[0;34m:\u001b[0m\u001b[0;34m\u001b[0m\u001b[0m\n\u001b[1;32m   2684\u001b[0m             \u001b[0;32mreturn\u001b[0m \u001b[0mself\u001b[0m\u001b[0;34m.\u001b[0m\u001b[0m_getitem_frame\u001b[0m\u001b[0;34m(\u001b[0m\u001b[0mkey\u001b[0m\u001b[0;34m)\u001b[0m\u001b[0;34m\u001b[0m\u001b[0m\n",
      "\u001b[0;32m/usr/local/lib/python3.5/dist-packages/pandas/core/frame.py\u001b[0m in \u001b[0;36m_getitem_array\u001b[0;34m(self, key)\u001b[0m\n\u001b[1;32m   2725\u001b[0m         \u001b[0;32melse\u001b[0m\u001b[0;34m:\u001b[0m\u001b[0;34m\u001b[0m\u001b[0m\n\u001b[1;32m   2726\u001b[0m             \u001b[0mindexer\u001b[0m \u001b[0;34m=\u001b[0m \u001b[0mself\u001b[0m\u001b[0;34m.\u001b[0m\u001b[0mloc\u001b[0m\u001b[0;34m.\u001b[0m\u001b[0m_convert_to_indexer\u001b[0m\u001b[0;34m(\u001b[0m\u001b[0mkey\u001b[0m\u001b[0;34m,\u001b[0m \u001b[0maxis\u001b[0m\u001b[0;34m=\u001b[0m\u001b[0;36m1\u001b[0m\u001b[0;34m)\u001b[0m\u001b[0;34m\u001b[0m\u001b[0m\n\u001b[0;32m-> 2727\u001b[0;31m             \u001b[0;32mreturn\u001b[0m \u001b[0mself\u001b[0m\u001b[0;34m.\u001b[0m\u001b[0m_take\u001b[0m\u001b[0;34m(\u001b[0m\u001b[0mindexer\u001b[0m\u001b[0;34m,\u001b[0m \u001b[0maxis\u001b[0m\u001b[0;34m=\u001b[0m\u001b[0;36m1\u001b[0m\u001b[0;34m)\u001b[0m\u001b[0;34m\u001b[0m\u001b[0m\n\u001b[0m\u001b[1;32m   2728\u001b[0m \u001b[0;34m\u001b[0m\u001b[0m\n\u001b[1;32m   2729\u001b[0m     \u001b[0;32mdef\u001b[0m \u001b[0m_getitem_multilevel\u001b[0m\u001b[0;34m(\u001b[0m\u001b[0mself\u001b[0m\u001b[0;34m,\u001b[0m \u001b[0mkey\u001b[0m\u001b[0;34m)\u001b[0m\u001b[0;34m:\u001b[0m\u001b[0;34m\u001b[0m\u001b[0m\n",
      "\u001b[0;32m/usr/local/lib/python3.5/dist-packages/pandas/core/generic.py\u001b[0m in \u001b[0;36m_take\u001b[0;34m(self, indices, axis, is_copy)\u001b[0m\n\u001b[1;32m   2784\u001b[0m         new_data = self._data.take(indices,\n\u001b[1;32m   2785\u001b[0m                                    \u001b[0maxis\u001b[0m\u001b[0;34m=\u001b[0m\u001b[0mself\u001b[0m\u001b[0;34m.\u001b[0m\u001b[0m_get_block_manager_axis\u001b[0m\u001b[0;34m(\u001b[0m\u001b[0maxis\u001b[0m\u001b[0;34m)\u001b[0m\u001b[0;34m,\u001b[0m\u001b[0;34m\u001b[0m\u001b[0m\n\u001b[0;32m-> 2786\u001b[0;31m                                    verify=True)\n\u001b[0m\u001b[1;32m   2787\u001b[0m         \u001b[0mresult\u001b[0m \u001b[0;34m=\u001b[0m \u001b[0mself\u001b[0m\u001b[0;34m.\u001b[0m\u001b[0m_constructor\u001b[0m\u001b[0;34m(\u001b[0m\u001b[0mnew_data\u001b[0m\u001b[0;34m)\u001b[0m\u001b[0;34m.\u001b[0m\u001b[0m__finalize__\u001b[0m\u001b[0;34m(\u001b[0m\u001b[0mself\u001b[0m\u001b[0;34m)\u001b[0m\u001b[0;34m\u001b[0m\u001b[0m\n\u001b[1;32m   2788\u001b[0m \u001b[0;34m\u001b[0m\u001b[0m\n",
      "\u001b[0;32m/usr/local/lib/python3.5/dist-packages/pandas/core/internals.py\u001b[0m in \u001b[0;36mtake\u001b[0;34m(self, indexer, axis, verify, convert)\u001b[0m\n\u001b[1;32m   4537\u001b[0m         \u001b[0mnew_labels\u001b[0m \u001b[0;34m=\u001b[0m \u001b[0mself\u001b[0m\u001b[0;34m.\u001b[0m\u001b[0maxes\u001b[0m\u001b[0;34m[\u001b[0m\u001b[0maxis\u001b[0m\u001b[0;34m]\u001b[0m\u001b[0;34m.\u001b[0m\u001b[0mtake\u001b[0m\u001b[0;34m(\u001b[0m\u001b[0mindexer\u001b[0m\u001b[0;34m)\u001b[0m\u001b[0;34m\u001b[0m\u001b[0m\n\u001b[1;32m   4538\u001b[0m         return self.reindex_indexer(new_axis=new_labels, indexer=indexer,\n\u001b[0;32m-> 4539\u001b[0;31m                                     axis=axis, allow_dups=True)\n\u001b[0m\u001b[1;32m   4540\u001b[0m \u001b[0;34m\u001b[0m\u001b[0m\n\u001b[1;32m   4541\u001b[0m     \u001b[0;32mdef\u001b[0m \u001b[0mmerge\u001b[0m\u001b[0;34m(\u001b[0m\u001b[0mself\u001b[0m\u001b[0;34m,\u001b[0m \u001b[0mother\u001b[0m\u001b[0;34m,\u001b[0m \u001b[0mlsuffix\u001b[0m\u001b[0;34m=\u001b[0m\u001b[0;34m''\u001b[0m\u001b[0;34m,\u001b[0m \u001b[0mrsuffix\u001b[0m\u001b[0;34m=\u001b[0m\u001b[0;34m''\u001b[0m\u001b[0;34m)\u001b[0m\u001b[0;34m:\u001b[0m\u001b[0;34m\u001b[0m\u001b[0m\n",
      "\u001b[0;32m/usr/local/lib/python3.5/dist-packages/pandas/core/internals.py\u001b[0m in \u001b[0;36mreindex_indexer\u001b[0;34m(self, new_axis, indexer, axis, fill_value, allow_dups, copy)\u001b[0m\n\u001b[1;32m   4419\u001b[0m         \u001b[0;32mif\u001b[0m \u001b[0maxis\u001b[0m \u001b[0;34m==\u001b[0m \u001b[0;36m0\u001b[0m\u001b[0;34m:\u001b[0m\u001b[0;34m\u001b[0m\u001b[0m\n\u001b[1;32m   4420\u001b[0m             new_blocks = self._slice_take_blocks_ax0(indexer,\n\u001b[0;32m-> 4421\u001b[0;31m                                                      fill_tuple=(fill_value,))\n\u001b[0m\u001b[1;32m   4422\u001b[0m         \u001b[0;32melse\u001b[0m\u001b[0;34m:\u001b[0m\u001b[0;34m\u001b[0m\u001b[0m\n\u001b[1;32m   4423\u001b[0m             new_blocks = [blk.take_nd(indexer, axis=axis, fill_tuple=(\n",
      "\u001b[0;32m/usr/local/lib/python3.5/dist-packages/pandas/core/internals.py\u001b[0m in \u001b[0;36m_slice_take_blocks_ax0\u001b[0;34m(self, slice_or_indexer, fill_tuple)\u001b[0m\n\u001b[1;32m   4499\u001b[0m                     blocks.append(blk.take_nd(blklocs[mgr_locs.indexer],\n\u001b[1;32m   4500\u001b[0m                                               \u001b[0maxis\u001b[0m\u001b[0;34m=\u001b[0m\u001b[0;36m0\u001b[0m\u001b[0;34m,\u001b[0m \u001b[0mnew_mgr_locs\u001b[0m\u001b[0;34m=\u001b[0m\u001b[0mmgr_locs\u001b[0m\u001b[0;34m,\u001b[0m\u001b[0;34m\u001b[0m\u001b[0m\n\u001b[0;32m-> 4501\u001b[0;31m                                               fill_tuple=None))\n\u001b[0m\u001b[1;32m   4502\u001b[0m \u001b[0;34m\u001b[0m\u001b[0m\n\u001b[1;32m   4503\u001b[0m         \u001b[0;32mreturn\u001b[0m \u001b[0mblocks\u001b[0m\u001b[0;34m\u001b[0m\u001b[0m\n",
      "\u001b[0;32m/usr/local/lib/python3.5/dist-packages/pandas/core/internals.py\u001b[0m in \u001b[0;36mtake_nd\u001b[0;34m(self, indexer, axis, new_mgr_locs, fill_tuple)\u001b[0m\n\u001b[1;32m   1252\u001b[0m             \u001b[0mfill_value\u001b[0m \u001b[0;34m=\u001b[0m \u001b[0mself\u001b[0m\u001b[0;34m.\u001b[0m\u001b[0mfill_value\u001b[0m\u001b[0;34m\u001b[0m\u001b[0m\n\u001b[1;32m   1253\u001b[0m             new_values = algos.take_nd(values, indexer, axis=axis,\n\u001b[0;32m-> 1254\u001b[0;31m                                        allow_fill=False)\n\u001b[0m\u001b[1;32m   1255\u001b[0m         \u001b[0;32melse\u001b[0m\u001b[0;34m:\u001b[0m\u001b[0;34m\u001b[0m\u001b[0m\n\u001b[1;32m   1256\u001b[0m             \u001b[0mfill_value\u001b[0m \u001b[0;34m=\u001b[0m \u001b[0mfill_tuple\u001b[0m\u001b[0;34m[\u001b[0m\u001b[0;36m0\u001b[0m\u001b[0;34m]\u001b[0m\u001b[0;34m\u001b[0m\u001b[0m\n",
      "\u001b[0;32m/usr/local/lib/python3.5/dist-packages/pandas/core/algorithms.py\u001b[0m in \u001b[0;36mtake_nd\u001b[0;34m(arr, indexer, axis, out, fill_value, mask_info, allow_fill)\u001b[0m\n\u001b[1;32m   1654\u001b[0m     func = _get_take_nd_function(arr.ndim, arr.dtype, out.dtype, axis=axis,\n\u001b[1;32m   1655\u001b[0m                                  mask_info=mask_info)\n\u001b[0;32m-> 1656\u001b[0;31m     \u001b[0mfunc\u001b[0m\u001b[0;34m(\u001b[0m\u001b[0marr\u001b[0m\u001b[0;34m,\u001b[0m \u001b[0mindexer\u001b[0m\u001b[0;34m,\u001b[0m \u001b[0mout\u001b[0m\u001b[0;34m,\u001b[0m \u001b[0mfill_value\u001b[0m\u001b[0;34m)\u001b[0m\u001b[0;34m\u001b[0m\u001b[0m\n\u001b[0m\u001b[1;32m   1657\u001b[0m \u001b[0;34m\u001b[0m\u001b[0m\n\u001b[1;32m   1658\u001b[0m     \u001b[0;32mif\u001b[0m \u001b[0mflip_order\u001b[0m\u001b[0;34m:\u001b[0m\u001b[0;34m\u001b[0m\u001b[0m\n",
      "\u001b[0;31mKeyboardInterrupt\u001b[0m: "
     ]
    }
   ],
   "source": [
    "classified_df = train_df[[\"comment_text\", \"likes\", \"rating\", \"sad\", \"wow\", \"funny\", \"disagree\", \"target\"]][(train_df[groups].sum(axis=1) > 0) & ((train_df[\"target\"] < 0.4) | (train_df[\"target\"] >= 0.8))].copy()"
   ]
  },
  {
   "cell_type": "code",
   "execution_count": null,
   "metadata": {},
   "outputs": [],
   "source": [
    "classified_df[\"toxic\"] = classified_df[\"target\"] > 0.5"
   ]
  },
  {
   "cell_type": "code",
   "execution_count": null,
   "metadata": {},
   "outputs": [],
   "source": [
    "words_inv = {w: i for i, w in enumerate(words)}"
   ]
  },
  {
   "cell_type": "code",
   "execution_count": null,
   "metadata": {},
   "outputs": [],
   "source": [
    "word_counts"
   ]
  },
  {
   "cell_type": "code",
   "execution_count": 161,
   "metadata": {},
   "outputs": [],
   "source": [
    "toxic_word_counts = word_counts.tocsc()[:, [words_inv[word] for word in all_toxic_words]]"
   ]
  },
  {
   "cell_type": "code",
   "execution_count": 162,
   "metadata": {},
   "outputs": [],
   "source": [
    "toxic_word_counts = toxic_word_counts.tocsr()"
   ]
  },
  {
   "cell_type": "code",
   "execution_count": 163,
   "metadata": {},
   "outputs": [],
   "source": [
    "toxic_word_counts = toxic_word_counts[classified_df.index, :]"
   ]
  },
  {
   "cell_type": "code",
   "execution_count": 166,
   "metadata": {},
   "outputs": [],
   "source": [
    "from sklearn.decomposition import TruncatedSVD"
   ]
  },
  {
   "cell_type": "code",
   "execution_count": 167,
   "metadata": {},
   "outputs": [],
   "source": [
    "pca = TruncatedSVD(n_components=10)"
   ]
  },
  {
   "cell_type": "code",
   "execution_count": 168,
   "metadata": {},
   "outputs": [],
   "source": [
    "toxic_word_counts_pca = pca.fit_transform(toxic_word_counts)"
   ]
  },
  {
   "cell_type": "code",
   "execution_count": 169,
   "metadata": {},
   "outputs": [
    {
     "data": {
      "text/plain": [
       "(226234, 10)"
      ]
     },
     "execution_count": 169,
     "metadata": {},
     "output_type": "execute_result"
    }
   ],
   "source": [
    "toxic_word_counts_pca.shape"
   ]
  },
  {
   "cell_type": "code",
   "execution_count": 173,
   "metadata": {},
   "outputs": [],
   "source": [
    "toxic_word_counts_pca_df = pd.DataFrame(toxic_word_counts_pca, index=toxic_word_counts_pca_df.index)"
   ]
  },
  {
   "cell_type": "code",
   "execution_count": 175,
   "metadata": {},
   "outputs": [],
   "source": [
    "classified_df = classified_df.merge(toxic_word_counts_pca_df, left_index=True, right_index=True)"
   ]
  },
  {
   "cell_type": "code",
   "execution_count": 185,
   "metadata": {},
   "outputs": [],
   "source": [
    "classified_df[\"rating\"] = classified_df[\"rating\"] == \"approved\""
   ]
  },
  {
   "cell_type": "code",
   "execution_count": 191,
   "metadata": {},
   "outputs": [],
   "source": [
    "X = classified_df.drop(columns=[\"target\", \"toxic\", \"comment_text\"])"
   ]
  },
  {
   "cell_type": "code",
   "execution_count": 192,
   "metadata": {},
   "outputs": [],
   "source": [
    "y = classified_df[\"toxic\"]"
   ]
  },
  {
   "cell_type": "code",
   "execution_count": 193,
   "metadata": {},
   "outputs": [],
   "source": [
    "from sklearn.model_selection import GridSearchCV\n",
    "from sklearn.ensemble import GradientBoostingClassifier"
   ]
  },
  {
   "cell_type": "code",
   "execution_count": 194,
   "metadata": {},
   "outputs": [],
   "source": [
    "grid = {\n",
    "    \"n_estimators\": range(10, 100, 10)\n",
    "}\n",
    "model = GradientBoostingClassifier(verbose=True)\n",
    "search = GridSearchCV(model, grid, scoring=\"roc_auc\", cv=3)"
   ]
  },
  {
   "cell_type": "code",
   "execution_count": 195,
   "metadata": {},
   "outputs": [
    {
     "name": "stdout",
     "output_type": "stream",
     "text": [
      "      Iter       Train Loss   Remaining Time \n",
      "         1           0.7166            7.38s\n",
      "         2           0.7112            3.50s\n",
      "         3           0.7071            2.37s\n",
      "         4           0.7038            1.62s\n",
      "         5           0.7015            1.10s\n",
      "         6           0.6996            0.74s\n",
      "         7           0.6979            0.48s\n",
      "         8           0.6966            0.30s\n",
      "         9           0.6951            0.14s\n",
      "        10           0.6941            0.00s\n",
      "      Iter       Train Loss   Remaining Time \n",
      "         1           0.7151            0.96s\n",
      "         2           0.7085            0.50s\n",
      "         3           0.7036            0.32s\n",
      "         4           0.7000            0.56s\n",
      "         5           0.6972            0.39s\n",
      "         6           0.6951            0.36s\n",
      "         7           0.6933            0.25s\n",
      "         8           0.6919            0.19s\n",
      "         9           0.6907            0.08s\n",
      "        10           0.6893            0.00s\n",
      "      Iter       Train Loss   Remaining Time \n",
      "         1           0.7155            0.12s\n",
      "         2           0.7093            0.11s\n",
      "         3           0.7046            0.77s\n",
      "         4           0.7011            0.52s\n",
      "         5           0.6982            0.41s\n",
      "         6           0.6961            0.31s\n",
      "         7           0.6943            0.22s\n",
      "         8           0.6926            0.14s\n",
      "         9           0.6912            0.06s\n",
      "        10           0.6901            0.00s\n",
      "      Iter       Train Loss   Remaining Time \n",
      "         1           0.7166            0.28s\n",
      "         2           0.7112            0.25s\n",
      "         3           0.7071            0.24s\n",
      "         4           0.7038            0.53s\n",
      "         5           0.7015            0.46s\n",
      "         6           0.6996            0.39s\n",
      "         7           0.6979            0.34s\n",
      "         8           0.6966            0.41s\n",
      "         9           0.6951            0.36s\n",
      "        10           0.6941            0.30s\n",
      "        20           0.6884            0.00s\n",
      "      Iter       Train Loss   Remaining Time \n",
      "         1           0.7151            0.27s\n",
      "         2           0.7085            0.26s\n",
      "         3           0.7036            0.61s\n",
      "         4           0.7000            0.78s\n",
      "         5           0.6972            0.63s\n",
      "         6           0.6951            0.52s\n",
      "         7           0.6933            0.48s\n",
      "         8           0.6919            0.41s\n",
      "         9           0.6907            0.35s\n",
      "        10           0.6893            0.30s\n",
      "        20           0.6828            0.00s\n",
      "      Iter       Train Loss   Remaining Time \n",
      "         1           0.7155           10.32s\n",
      "         2           0.7093            5.03s\n",
      "         3           0.7046            4.35s\n",
      "         4           0.7011            4.23s\n",
      "         5           0.6982            3.32s\n",
      "         6           0.6961            2.61s\n",
      "         7           0.6943            2.10s\n",
      "         8           0.6926            1.72s\n",
      "         9           0.6912            1.50s\n",
      "        10           0.6901            1.25s\n",
      "        20           0.6836            0.00s\n",
      "      Iter       Train Loss   Remaining Time \n",
      "         1           0.7166            0.81s\n",
      "         2           0.7112            1.99s\n",
      "         3           0.7071            2.44s\n",
      "         4           0.7038            1.87s\n",
      "         5           0.7015            1.52s\n",
      "         6           0.6996            1.27s\n",
      "         7           0.6979            1.10s\n",
      "         8           0.6966            1.18s\n",
      "         9           0.6951            1.04s\n",
      "        10           0.6941            0.92s\n",
      "        20           0.6884            0.44s\n",
      "        30           0.6834            0.00s\n",
      "      Iter       Train Loss   Remaining Time \n",
      "         1           0.7151            0.39s\n",
      "         2           0.7085            2.45s\n",
      "         3           0.7036            1.73s\n",
      "         4           0.7000            2.33s\n",
      "         5           0.6972            2.41s\n",
      "         6           0.6951            2.02s\n",
      "         7           0.6933            1.70s\n",
      "         8           0.6919            1.84s\n",
      "         9           0.6907            1.75s\n",
      "        10           0.6893            1.53s\n",
      "        20           0.6828            0.46s\n",
      "        30           0.6779            0.00s\n",
      "      Iter       Train Loss   Remaining Time \n",
      "         1           0.7155            3.99s\n",
      "         2           0.7093            2.12s\n",
      "         3           0.7046            1.52s\n",
      "         4           0.7011            1.18s\n",
      "         5           0.6982            1.68s\n",
      "         6           0.6961            1.41s\n",
      "         7           0.6943            1.21s\n",
      "         8           0.6926            1.05s\n",
      "         9           0.6912            0.92s\n",
      "        10           0.6901            0.97s\n",
      "        20           0.6836            0.32s\n",
      "        30           0.6793            0.00s\n",
      "      Iter       Train Loss   Remaining Time \n",
      "         1           0.7166            0.56s\n",
      "         2           0.7112            0.55s\n",
      "         3           0.7071            0.56s\n",
      "         4           0.7038            0.55s\n",
      "         5           0.7015            0.54s\n",
      "         6           0.6996            0.52s\n",
      "         7           0.6979            0.51s\n",
      "         8           0.6966            0.72s\n",
      "         9           0.6951            0.68s\n",
      "        10           0.6941            0.63s\n",
      "        20           0.6884            0.34s\n",
      "        30           0.6834            0.20s\n",
      "        40           0.6790            0.00s\n",
      "      Iter       Train Loss   Remaining Time \n",
      "         1           0.7151            0.80s\n",
      "         2           0.7085            3.85s\n",
      "         3           0.7036            2.71s\n",
      "         4           0.7000            2.50s\n",
      "         5           0.6972            2.28s\n",
      "         6           0.6951            1.94s\n",
      "         7           0.6933            1.68s\n",
      "         8           0.6919            1.68s\n",
      "         9           0.6907            1.51s\n",
      "        10           0.6893            1.36s\n",
      "        20           0.6828            0.60s\n",
      "        30           0.6779            0.27s\n",
      "        40           0.6733            0.00s\n",
      "      Iter       Train Loss   Remaining Time \n",
      "         1           0.7155            0.50s\n",
      "         2           0.7093            0.48s\n",
      "         3           0.7046            0.50s\n",
      "         4           0.7011            0.49s\n",
      "         5           0.6982            0.49s\n",
      "         6           0.6961            0.48s\n",
      "         7           0.6943            0.46s\n",
      "         8           0.6926            0.44s\n",
      "         9           0.6912            0.43s\n",
      "        10           0.6901            0.42s\n",
      "        20           0.6836            0.95s\n",
      "        30           0.6793            0.37s\n",
      "        40           0.6758            0.00s\n",
      "      Iter       Train Loss   Remaining Time \n",
      "         1           0.7166            0.66s\n",
      "         2           0.7112            0.65s\n",
      "         3           0.7071            0.65s\n",
      "         4           0.7038            1.56s\n",
      "         5           0.7015            1.38s\n",
      "         6           0.6996            1.64s\n",
      "         7           0.6979            1.46s\n",
      "         8           0.6966            1.31s\n",
      "         9           0.6951            1.37s\n",
      "        10           0.6941            1.26s\n",
      "        20           0.6884            0.88s\n",
      "        30           0.6834            0.47s\n",
      "        40           0.6790            0.23s\n",
      "        50           0.6755            0.00s\n",
      "      Iter       Train Loss   Remaining Time \n",
      "         1           0.7151            0.68s\n",
      "         2           0.7085            3.35s\n",
      "         3           0.7036            4.38s\n",
      "         4           0.7000            3.44s\n",
      "         5           0.6972            2.94s\n",
      "         6           0.6951            3.18s\n",
      "         7           0.6933            2.80s\n",
      "         8           0.6919            2.46s\n",
      "         9           0.6907            2.20s\n",
      "        10           0.6893            1.99s\n",
      "        20           0.6828            0.95s\n",
      "        30           0.6779            0.57s\n",
      "        40           0.6733            0.25s\n",
      "        50           0.6694            0.00s\n",
      "      Iter       Train Loss   Remaining Time \n",
      "         1           0.7155            0.60s\n",
      "         2           0.7093            0.58s\n",
      "         3           0.7046            0.63s\n",
      "         4           0.7011            0.62s\n",
      "         5           0.6982            0.62s\n",
      "         6           0.6961            0.60s\n",
      "         7           0.6943            0.58s\n"
     ]
    },
    {
     "name": "stdout",
     "output_type": "stream",
     "text": [
      "         8           0.6926            0.99s\n",
      "         9           0.6912            0.92s\n",
      "        10           0.6901            0.86s\n",
      "        20           0.6836            0.66s\n",
      "        30           0.6793            0.39s\n",
      "        40           0.6758            0.20s\n",
      "        50           0.6715            0.00s\n",
      "      Iter       Train Loss   Remaining Time \n",
      "         1           0.7166            0.79s\n",
      "         2           0.7112            0.81s\n",
      "         3           0.7071            0.84s\n",
      "         4           0.7038            2.98s\n",
      "         5           0.7015            4.27s\n",
      "         6           0.6996            3.62s\n",
      "         7           0.6979            3.16s\n",
      "         8           0.6966            2.80s\n",
      "         9           0.6951            2.53s\n",
      "        10           0.6941            3.11s\n",
      "        20           0.6884            2.15s\n",
      "        30           0.6834            1.21s\n",
      "        40           0.6790            0.67s\n",
      "        50           0.6755            0.30s\n",
      "        60           0.6718            0.00s\n",
      "      Iter       Train Loss   Remaining Time \n",
      "         1           0.7151            0.75s\n",
      "         2           0.7085            0.77s\n",
      "         3           0.7036            0.75s\n",
      "         4           0.7000            1.54s\n",
      "         5           0.6972            1.91s\n",
      "         6           0.6951            1.70s\n",
      "         7           0.6933            1.54s\n",
      "         8           0.6919            1.41s\n",
      "         9           0.6907            1.30s\n",
      "        10           0.6893            1.62s\n",
      "        20           0.6828            1.34s\n",
      "        30           0.6779            0.81s\n",
      "        40           0.6733            0.47s\n",
      "        50           0.6694            0.21s\n",
      "        60           0.6653            0.00s\n",
      "      Iter       Train Loss   Remaining Time \n",
      "         1           0.7155            0.76s\n",
      "         2           0.7093            0.75s\n",
      "         3           0.7046            0.76s\n",
      "         4           0.7011            0.74s\n",
      "         5           0.6982            0.74s\n",
      "         6           0.6961            0.72s\n",
      "         7           0.6943            0.70s\n",
      "         8           0.6926            0.68s\n",
      "         9           0.6912            0.67s\n",
      "        10           0.6901            0.65s\n",
      "        20           0.6836            2.78s\n",
      "        30           0.6793            1.68s\n",
      "        40           0.6758            0.91s\n",
      "        50           0.6715            0.39s\n",
      "        60           0.6678            0.00s\n",
      "      Iter       Train Loss   Remaining Time \n",
      "         1           0.7166            0.94s\n",
      "         2           0.7112            5.84s\n",
      "         3           0.7071            4.17s\n",
      "         4           0.7038            5.53s\n",
      "         5           0.7015            4.59s\n",
      "         6           0.6996            4.25s\n",
      "         7           0.6979            3.73s\n",
      "         8           0.6966            3.31s\n",
      "         9           0.6951            3.75s\n",
      "        10           0.6941            3.42s\n",
      "        20           0.6884            2.60s\n",
      "        30           0.6834            1.56s\n",
      "        40           0.6790            0.98s\n",
      "        50           0.6755            0.62s\n",
      "        60           0.6718            0.28s\n",
      "        70           0.6674            0.00s\n",
      "      Iter       Train Loss   Remaining Time \n",
      "         1           0.7151            3.78s\n",
      "         2           0.7085            2.41s\n",
      "         3           0.7036            1.92s\n",
      "         4           0.7000            1.67s\n",
      "         5           0.6972            1.50s\n",
      "         6           0.6951            1.37s\n",
      "         7           0.6933            1.28s\n",
      "         8           0.6919            1.22s\n",
      "         9           0.6907            1.16s\n",
      "        10           0.6893            1.11s\n",
      "        20           0.6828            0.82s\n",
      "        30           0.6779            0.63s\n",
      "        40           0.6733            0.54s\n",
      "        50           0.6694            0.34s\n",
      "        60           0.6653            0.17s\n",
      "        70           0.6621            0.00s\n",
      "      Iter       Train Loss   Remaining Time \n",
      "         1           0.7155            4.43s\n",
      "         2           0.7093            2.74s\n",
      "         3           0.7046            2.17s\n",
      "         4           0.7011            1.84s\n",
      "         5           0.6982            2.01s\n",
      "         6           0.6961            1.80s\n",
      "         7           0.6943            1.65s\n",
      "         8           0.6926            1.68s\n",
      "         9           0.6912            1.57s\n",
      "        10           0.6901            1.47s\n",
      "        20           0.6836            1.09s\n",
      "        30           0.6793            0.76s\n",
      "        40           0.6758            0.53s\n",
      "        50           0.6715            0.41s\n",
      "        60           0.6678            0.19s\n",
      "        70           0.6648            0.00s\n",
      "      Iter       Train Loss   Remaining Time \n",
      "         1           0.7166            1.14s\n",
      "         2           0.7112            1.14s\n",
      "         3           0.7071            2.24s\n",
      "         4           0.7038            2.00s\n",
      "         5           0.7015            1.83s\n",
      "         6           0.6996            1.68s\n",
      "         7           0.6979            1.59s\n",
      "         8           0.6966            1.51s\n",
      "         9           0.6951            1.44s\n",
      "        10           0.6941            2.01s\n",
      "        20           0.6884            1.65s\n",
      "        30           0.6834            1.13s\n",
      "        40           0.6790            0.81s\n",
      "        50           0.6755            0.57s\n",
      "        60           0.6718            0.36s\n",
      "        70           0.6674            0.17s\n",
      "        80           0.6633            0.00s\n",
      "      Iter       Train Loss   Remaining Time \n",
      "         1           0.7151            1.02s\n",
      "         2           0.7085            1.04s\n",
      "         3           0.7036            1.02s\n",
      "         4           0.7000            1.03s\n",
      "         5           0.6972            1.00s\n",
      "         6           0.6951            2.10s\n",
      "         7           0.6933            5.42s\n",
      "         8           0.6919            4.86s\n",
      "         9           0.6907            4.37s\n",
      "        10           0.6893            5.17s\n",
      "        20           0.6828            3.02s\n",
      "        30           0.6779            1.89s\n",
      "        40           0.6733            1.26s\n",
      "        50           0.6694            0.83s\n",
      "        60           0.6653            0.56s\n",
      "        70           0.6621            0.29s\n",
      "        80           0.6579            0.00s\n",
      "      Iter       Train Loss   Remaining Time \n",
      "         1           0.7155            2.61s\n",
      "         2           0.7093            4.87s\n",
      "         3           0.7046            5.08s\n",
      "         4           0.7011            7.08s\n",
      "         5           0.6982            5.89s\n",
      "         6           0.6961            5.01s\n",
      "         7           0.6943            5.29s\n",
      "         8           0.6926            5.41s\n",
      "         9           0.6912            4.88s\n",
      "        10           0.6901            4.43s\n",
      "        20           0.6836            2.69s\n",
      "        30           0.6793            1.86s\n",
      "        40           0.6758            1.25s\n",
      "        50           0.6715            0.93s\n",
      "        60           0.6678            0.56s\n",
      "        70           0.6648            0.26s\n",
      "        80           0.6610            0.00s\n",
      "      Iter       Train Loss   Remaining Time \n",
      "         1           0.7166           15.09s\n",
      "         2           0.7112            8.25s\n",
      "         3           0.7071            5.88s\n",
      "         4           0.7038            4.68s\n",
      "         5           0.7015            3.96s\n",
      "         6           0.6996            5.60s\n",
      "         7           0.6979            4.98s\n",
      "         8           0.6966            5.71s\n",
      "         9           0.6951            5.15s\n",
      "        10           0.6941            4.69s\n",
      "        20           0.6884            3.16s\n",
      "        30           0.6834            2.08s\n",
      "        40           0.6790            1.46s\n",
      "        50           0.6755            1.05s\n",
      "        60           0.6718            0.72s\n",
      "        70           0.6674            0.45s\n",
      "        80           0.6633            0.22s\n",
      "        90           0.6596            0.00s\n",
      "      Iter       Train Loss   Remaining Time \n",
      "         1           0.7151            1.33s\n",
      "         2           0.7085            1.38s\n",
      "         3           0.7036            1.35s\n",
      "         4           0.7000            1.35s\n",
      "         5           0.6972            1.32s\n",
      "         6           0.6951            1.30s\n",
      "         7           0.6933            1.27s\n",
      "         8           0.6919            1.24s\n",
      "         9           0.6907            1.22s\n",
      "        10           0.6893            1.20s\n"
     ]
    },
    {
     "name": "stdout",
     "output_type": "stream",
     "text": [
      "        20           0.6828            2.80s\n",
      "        30           0.6779            2.08s\n",
      "        40           0.6733            1.48s\n",
      "        50           0.6694            1.06s\n",
      "        60           0.6653            0.74s\n",
      "        70           0.6621            0.46s\n",
      "        80           0.6579            0.22s\n",
      "        90           0.6542            0.00s\n",
      "      Iter       Train Loss   Remaining Time \n",
      "         1           0.7155            1.15s\n",
      "         2           0.7093            1.11s\n",
      "         3           0.7046            1.19s\n",
      "         4           0.7011            1.16s\n",
      "         5           0.6982            1.17s\n",
      "         6           0.6961            1.16s\n",
      "         7           0.6943            1.14s\n",
      "         8           0.6926            1.13s\n",
      "         9           0.6912            3.49s\n",
      "        10           0.6901            3.37s\n",
      "        20           0.6836            2.74s\n",
      "        30           0.6793            2.33s\n",
      "        40           0.6758            1.62s\n",
      "        50           0.6715            1.15s\n",
      "        60           0.6678            0.79s\n",
      "        70           0.6648            0.49s\n",
      "        80           0.6610            0.23s\n",
      "        90           0.6575            0.00s\n",
      "      Iter       Train Loss   Remaining Time \n",
      "         1           0.7160           11.20s\n",
      "         2           0.7102            7.24s\n",
      "         3           0.7059            6.47s\n",
      "         4           0.7025            5.30s\n",
      "         5           0.7000            5.77s\n",
      "         6           0.6980            4.79s\n",
      "         7           0.6964            4.01s\n",
      "         8           0.6951            4.58s\n",
      "         9           0.6939            4.01s\n",
      "        10           0.6928            3.48s\n",
      "        20           0.6876            1.01s\n",
      "        30           0.6842            0.00s\n"
     ]
    },
    {
     "data": {
      "text/plain": [
       "GridSearchCV(cv=3, error_score='raise-deprecating',\n",
       "       estimator=GradientBoostingClassifier(criterion='friedman_mse', init=None,\n",
       "              learning_rate=0.1, loss='deviance', max_depth=3,\n",
       "              max_features=None, max_leaf_nodes=None,\n",
       "              min_impurity_decrease=0.0, min_impurity_split=None,\n",
       "              min_samples_leaf=1, min_sampl...   subsample=1.0, tol=0.0001, validation_fraction=0.1,\n",
       "              verbose=True, warm_start=False),\n",
       "       fit_params=None, iid='warn', n_jobs=None,\n",
       "       param_grid={'n_estimators': range(10, 100, 10)},\n",
       "       pre_dispatch='2*n_jobs', refit=True, return_train_score='warn',\n",
       "       scoring='roc_auc', verbose=0)"
      ]
     },
     "execution_count": 195,
     "metadata": {},
     "output_type": "execute_result"
    }
   ],
   "source": [
    "search.fit(X, y)"
   ]
  },
  {
   "cell_type": "code",
   "execution_count": 196,
   "metadata": {},
   "outputs": [
    {
     "data": {
      "text/plain": [
       "GradientBoostingClassifier(criterion='friedman_mse', init=None,\n",
       "              learning_rate=0.1, loss='deviance', max_depth=3,\n",
       "              max_features=None, max_leaf_nodes=None,\n",
       "              min_impurity_decrease=0.0, min_impurity_split=None,\n",
       "              min_samples_leaf=1, min_samples_split=2,\n",
       "              min_weight_fraction_leaf=0.0, n_estimators=30,\n",
       "              n_iter_no_change=None, presort='auto', random_state=None,\n",
       "              subsample=1.0, tol=0.0001, validation_fraction=0.1,\n",
       "              verbose=True, warm_start=False)"
      ]
     },
     "execution_count": 196,
     "metadata": {},
     "output_type": "execute_result"
    }
   ],
   "source": [
    "search.best_estimator_"
   ]
  },
  {
   "cell_type": "code",
   "execution_count": 197,
   "metadata": {},
   "outputs": [
    {
     "data": {
      "text/plain": [
       "0.5957209202312268"
      ]
     },
     "execution_count": 197,
     "metadata": {},
     "output_type": "execute_result"
    }
   ],
   "source": [
    "search.best_score_"
   ]
  },
  {
   "cell_type": "markdown",
   "metadata": {},
   "source": [
    "- Draw two background distribution\n",
    "- Draw two distribution for each subgroup - hist with all predictions for real classes"
   ]
  },
  {
   "cell_type": "markdown",
   "metadata": {},
   "source": [
    "- What features will we use? What features can we interpret?\n",
    "- What normalizations will we implement for the output\n",
    "- What group thresholds should we expect\n",
    "- What metric effects should we expect"
   ]
  }
 ],
 "metadata": {
  "kernelspec": {
   "display_name": "Python 3",
   "language": "python",
   "name": "python3"
  },
  "language_info": {
   "codemirror_mode": {
    "name": "ipython",
    "version": 3
   },
   "file_extension": ".py",
   "mimetype": "text/x-python",
   "name": "python",
   "nbconvert_exporter": "python",
   "pygments_lexer": "ipython3",
   "version": "3.5.2"
  }
 },
 "nbformat": 4,
 "nbformat_minor": 2
}
